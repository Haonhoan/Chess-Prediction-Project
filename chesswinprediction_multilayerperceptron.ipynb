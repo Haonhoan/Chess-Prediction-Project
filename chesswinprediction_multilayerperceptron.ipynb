{
 "cells": [
  {
   "cell_type": "code",
   "execution_count": 1,
   "id": "d3de7cfd",
   "metadata": {},
   "outputs": [],
   "source": [
    "import findspark\n",
    "findspark.init()"
   ]
  },
  {
   "cell_type": "code",
   "execution_count": 2,
   "id": "aec6bcfb",
   "metadata": {},
   "outputs": [],
   "source": [
    "from pyspark.sql import SparkSession\n",
    "spark = SparkSession.builder.master(\"local[*]\").getOrCreate()"
   ]
  },
  {
   "cell_type": "code",
   "execution_count": 3,
   "id": "0b0d22b1",
   "metadata": {},
   "outputs": [],
   "source": [
    "import os"
   ]
  },
  {
   "cell_type": "code",
   "execution_count": 4,
   "id": "ec361eac",
   "metadata": {},
   "outputs": [],
   "source": [
    "data = spark.read.option(\"mode\", 'DROPMALFORMED').csv(\"games.csv\", header=True, inferSchema=True)"
   ]
  },
  {
   "cell_type": "code",
   "execution_count": 5,
   "id": "6bd159b6",
   "metadata": {
    "scrolled": false
   },
   "outputs": [
    {
     "name": "stdout",
     "output_type": "stream",
     "text": [
      "root\n",
      " |-- id: string (nullable = true)\n",
      " |-- rated: boolean (nullable = true)\n",
      " |-- created_at: double (nullable = true)\n",
      " |-- last_move_at: double (nullable = true)\n",
      " |-- turns: integer (nullable = true)\n",
      " |-- victory_status: string (nullable = true)\n",
      " |-- winner: string (nullable = true)\n",
      " |-- increment_code: string (nullable = true)\n",
      " |-- white_id: string (nullable = true)\n",
      " |-- white_rating: integer (nullable = true)\n",
      " |-- black_id: string (nullable = true)\n",
      " |-- black_rating: integer (nullable = true)\n",
      " |-- moves: string (nullable = true)\n",
      " |-- opening_eco: string (nullable = true)\n",
      " |-- opening_name: string (nullable = true)\n",
      " |-- opening_ply: integer (nullable = true)\n",
      "\n"
     ]
    }
   ],
   "source": [
    "data.printSchema()"
   ]
  },
  {
   "cell_type": "code",
   "execution_count": 6,
   "id": "d50c9110",
   "metadata": {},
   "outputs": [
    {
     "data": {
      "text/plain": [
       "20058"
      ]
     },
     "execution_count": 6,
     "metadata": {},
     "output_type": "execute_result"
    }
   ],
   "source": [
    "data.count()"
   ]
  },
  {
   "cell_type": "markdown",
   "id": "c1abb515",
   "metadata": {},
   "source": [
    "Check for null values"
   ]
  },
  {
   "cell_type": "code",
   "execution_count": 7,
   "id": "acaebe55",
   "metadata": {},
   "outputs": [
    {
     "name": "stdout",
     "output_type": "stream",
     "text": [
      "+---+-----+----------+------------+-----+--------------+------+--------------+--------+------------+--------+------------+-----+-----------+------------+-----------+\n",
      "| id|rated|created_at|last_move_at|turns|victory_status|winner|increment_code|white_id|white_rating|black_id|black_rating|moves|opening_eco|opening_name|opening_ply|\n",
      "+---+-----+----------+------------+-----+--------------+------+--------------+--------+------------+--------+------------+-----+-----------+------------+-----------+\n",
      "|  0|    0|         0|           0|    0|             0|     0|             0|       0|           0|       0|           0|    0|          0|           0|          0|\n",
      "+---+-----+----------+------------+-----+--------------+------+--------------+--------+------------+--------+------------+-----+-----------+------------+-----------+\n",
      "\n"
     ]
    }
   ],
   "source": [
    "from pyspark.sql.functions import isnan, when, count, col\n",
    "data.select([count(when(col(c).isNull(),c)).alias(c) for c in data.columns]).show()"
   ]
  },
  {
   "cell_type": "markdown",
   "id": "cf33d79d",
   "metadata": {},
   "source": [
    "Remove rows where players drawed"
   ]
  },
  {
   "cell_type": "code",
   "execution_count": 8,
   "id": "15ce2448",
   "metadata": {},
   "outputs": [],
   "source": [
    "data.createOrReplaceTempView(\"data\")"
   ]
  },
  {
   "cell_type": "code",
   "execution_count": 9,
   "id": "c5c581e5",
   "metadata": {},
   "outputs": [],
   "source": [
    "data = spark.sql(\"SELECT * FROM data WHERE winner != 'draw'\")"
   ]
  },
  {
   "cell_type": "code",
   "execution_count": 10,
   "id": "341665f2",
   "metadata": {},
   "outputs": [
    {
     "data": {
      "text/plain": [
       "19108"
      ]
     },
     "execution_count": 10,
     "metadata": {},
     "output_type": "execute_result"
    }
   ],
   "source": [
    "data.count()"
   ]
  },
  {
   "cell_type": "markdown",
   "id": "4631fb05",
   "metadata": {},
   "source": [
    "Remove unnecessary columns and rows"
   ]
  },
  {
   "cell_type": "code",
   "execution_count": 11,
   "id": "9277fb61",
   "metadata": {},
   "outputs": [
    {
     "data": {
      "text/plain": [
       "19108"
      ]
     },
     "execution_count": 11,
     "metadata": {},
     "output_type": "execute_result"
    }
   ],
   "source": [
    "data = data.drop(\"id\",\"victory_status\",\"moves\",\"rated\")\n",
    "data.count()"
   ]
  },
  {
   "cell_type": "markdown",
   "id": "df4502e4",
   "metadata": {},
   "source": [
    "Indexing"
   ]
  },
  {
   "cell_type": "code",
   "execution_count": 12,
   "id": "8b2e4422",
   "metadata": {
    "scrolled": true
   },
   "outputs": [
    {
     "name": "stdout",
     "output_type": "stream",
     "text": [
      "root\n",
      " |-- created_at: double (nullable = true)\n",
      " |-- last_move_at: double (nullable = true)\n",
      " |-- turns: integer (nullable = true)\n",
      " |-- winner: string (nullable = true)\n",
      " |-- increment_code: string (nullable = true)\n",
      " |-- white_id: string (nullable = true)\n",
      " |-- white_rating: integer (nullable = true)\n",
      " |-- black_id: string (nullable = true)\n",
      " |-- black_rating: integer (nullable = true)\n",
      " |-- opening_eco: string (nullable = true)\n",
      " |-- opening_name: string (nullable = true)\n",
      " |-- opening_ply: integer (nullable = true)\n",
      "\n"
     ]
    }
   ],
   "source": [
    "data.printSchema()"
   ]
  },
  {
   "cell_type": "code",
   "execution_count": 13,
   "id": "bb5c081a",
   "metadata": {},
   "outputs": [
    {
     "name": "stdout",
     "output_type": "stream",
     "text": [
      "+----------+------------+-----+------------+------------+-----------+------------+--------------------+--------------+--------------+-----------------+------------------+\n",
      "|created_at|last_move_at|turns|white_rating|black_rating|opening_ply|winner_index|increment_code_index|white_id_index|black_id_index|opening_eco_index|opening_name_index|\n",
      "+----------+------------+-----+------------+------------+-----------+------------+--------------------+--------------+--------------+-----------------+------------------+\n",
      "|1.50421E12|  1.50421E12|   13|        1500|        1191|          5|         0.0|                21.0|        3068.0|        1114.0|             44.0|             226.0|\n",
      "|1.50413E12|  1.50413E12|   16|        1322|        1261|          4|         1.0|                16.0|        2131.0|        7830.0|              7.0|             613.0|\n",
      "|1.50413E12|  1.50413E12|   61|        1496|        1500|          3|         0.0|                16.0|        4941.0|        1114.0|              5.0|              20.0|\n",
      "|1.50411E12|  1.50411E12|   61|        1439|        1454|          3|         0.0|                 7.0|         617.0|         695.0|             11.0|              32.0|\n",
      "|1.50403E12|  1.50403E12|   95|        1523|        1469|          5|         0.0|               160.0|         999.0|         695.0|              4.0|              24.0|\n",
      "|1.50423E12|  1.50423E12|   33|        1520|        1423|         10|         0.0|                 0.0|        3202.0|        1335.0|              2.0|             878.0|\n",
      "|1.50368E12|  1.50368E12|    9|        1413|        2108|          5|         1.0|                88.0|         553.0|        1959.0|              7.0|              73.0|\n",
      "|1.50351E12|  1.50351E12|   66|        1439|        1392|          6|         1.0|                 1.0|        3948.0|        1335.0|              9.0|             109.0|\n",
      "|1.50344E12|  1.50344E12|  119|        1381|        1209|          4|         0.0|                 0.0|         553.0|        1730.0|              3.0|               5.0|\n",
      "|1.50335E12|  1.50335E12|   39|        1381|        1272|          1|         0.0|                79.0|         553.0|        2482.0|              0.0|               0.0|\n",
      "|1.50335E12|  1.50335E12|   38|        1381|        1867|          9|         1.0|                79.0|         553.0|        8035.0|             17.0|              79.0|\n",
      "|1.50335E12|  1.50335E12|   60|        1381|        1936|          3|         1.0|               209.0|         553.0|         296.0|              1.0|               4.0|\n",
      "|1.50334E12|  1.50334E12|   31|        1381|        1607|          2|         1.0|                 6.0|         553.0|        2411.0|              1.0|              35.0|\n",
      "|1.50409E12|   1.5041E12|   31|        1094|        1141|          8|         0.0|                 2.0|         232.0|        1059.0|              9.0|              14.0|\n",
      "|1.50409E12|  1.50409E12|   43|        1141|        1094|          7|         1.0|                 2.0|        1981.0|          43.0|             39.0|             275.0|\n",
      "|1.50409E12|  1.50409E12|   52|        1094|        1141|          8|         1.0|                 2.0|         232.0|        1059.0|              9.0|              14.0|\n",
      "|1.50401E12|  1.50401E12|   66|        1141|        1094|          8|         1.0|               149.0|        1981.0|          43.0|              9.0|              14.0|\n",
      "|1.50401E12|  1.50401E12|  101|        1094|        1300|          5|         1.0|                 2.0|         232.0|        7837.0|              4.0|              10.0|\n",
      "|1.50376E12|  1.50376E12|   25|        1500|        1094|          2|         0.0|                45.0|        4314.0|          43.0|              2.0|              21.0|\n",
      "|1.50295E12|  1.50295E12|   14|        1094|        1676|          6|         1.0|                 2.0|         232.0|        5740.0|             14.0|              13.0|\n",
      "+----------+------------+-----+------------+------------+-----------+------------+--------------------+--------------+--------------+-----------------+------------------+\n",
      "only showing top 20 rows\n",
      "\n"
     ]
    }
   ],
   "source": [
    "from pyspark.ml.feature import StringIndexer, OneHotEncoder\n",
    "from pyspark.ml import Pipeline\n",
    "categoricalColumns = [item[0] for item in data.dtypes if item[1].startswith('string') ]\n",
    "\n",
    "stages = []\n",
    "\n",
    "for categoricalCol in categoricalColumns:\n",
    "    stringIndexer = StringIndexer(inputCol = categoricalCol, outputCol = categoricalCol + '_index')\n",
    "    stages += [stringIndexer]\n",
    "\n",
    "pipeline = Pipeline(stages = stages)\n",
    "\n",
    "pipelineModel = pipeline.fit(data)\n",
    "data = pipelineModel.transform(data)\n",
    "\n",
    "data = data.drop(\"winner\", \"increment_code\", \"white_id\", \"black_id\", \"opening_eco\", \"opening_name\")\n",
    "data.show()"
   ]
  },
  {
   "cell_type": "markdown",
   "id": "eaf09781",
   "metadata": {},
   "source": [
    "Minmax Scaler"
   ]
  },
  {
   "cell_type": "code",
   "execution_count": 14,
   "id": "61b6da72",
   "metadata": {},
   "outputs": [
    {
     "name": "stdout",
     "output_type": "stream",
     "text": [
      "root\n",
      " |-- created_at: double (nullable = true)\n",
      " |-- last_move_at: double (nullable = true)\n",
      " |-- turns: integer (nullable = true)\n",
      " |-- white_rating: integer (nullable = true)\n",
      " |-- black_rating: integer (nullable = true)\n",
      " |-- opening_ply: integer (nullable = true)\n",
      " |-- winner_index: double (nullable = false)\n",
      " |-- increment_code_index: double (nullable = false)\n",
      " |-- white_id_index: double (nullable = false)\n",
      " |-- black_id_index: double (nullable = false)\n",
      " |-- opening_eco_index: double (nullable = false)\n",
      " |-- opening_name_index: double (nullable = false)\n",
      "\n"
     ]
    }
   ],
   "source": [
    "data.printSchema()"
   ]
  },
  {
   "cell_type": "code",
   "execution_count": 15,
   "id": "7e13da98",
   "metadata": {},
   "outputs": [
    {
     "name": "stdout",
     "output_type": "stream",
     "text": [
      "+------------+--------------------+--------------+--------------+-----------------+------------------+--------------------+--------------------+--------------------+--------------------+--------------------+--------------------+\n",
      "|winner_index|increment_code_index|white_id_index|black_id_index|opening_eco_index|opening_name_index|   created_at_scaled| last_move_at_scaled|        turns_scaled| white_rating_scaled| black_rating_scaled|  opening_ply_scaled|\n",
      "+------------+--------------------+--------------+--------------+-----------------+------------------+--------------------+--------------------+--------------------+--------------------+--------------------+--------------------+\n",
      "|         0.0|                21.0|        3068.0|        1114.0|             44.0|             226.0|[0.9977831158695807]|[0.9977777724801767]|[0.03448275862068...|[0.3736951983298538]|[0.20785935884177...|[0.14814814814814...|\n",
      "|         1.0|                16.0|        2131.0|        7830.0|              7.0|             613.0|[0.9971567530931499]|[0.9971514119243473]|[0.04310344827586...|[0.2807933194154488]|[0.2440537745604964]|[0.1111111111111111]|\n",
      "|         0.0|                16.0|        4941.0|        1114.0|              5.0|              20.0|[0.9971567530931499]|[0.9971514119243473]|[0.1724137931034483]|  [0.37160751565762]|[0.3676318510858325]|[0.07407407407407...|\n",
      "|         0.0|                 7.0|         617.0|         695.0|             11.0|              32.0|[0.9970001623990422]|  [0.99699482178539]|[0.1724137931034483]|[0.3418580375782881]| [0.343846949327818]|[0.07407407407407...|\n",
      "|         0.0|               160.0|         999.0|         695.0|              4.0|              24.0|[0.9963737996226114]|[0.9963684612295606]|[0.27011494252873...|[0.3856993736951983]|[0.3516028955532575]|[0.14814814814814...|\n",
      "|         0.0|                 0.0|        3202.0|        1335.0|              2.0|             878.0|[0.9979397065636884]|[0.9979343626191342]|[0.09195402298850...|[0.38413361169102...|[0.32781799379524...|[0.3333333333333333]|\n",
      "|         1.0|                88.0|         553.0|        1959.0|              7.0|              73.0|[0.9936334624757266]| [0.993628133797807]|[0.02298850574712...|[0.32828810020876...|[0.6820062047569804]|[0.14814814814814...|\n",
      "|         1.0|                 1.0|        3948.0|        1335.0|              9.0|             109.0|[0.9923024415758112]|[0.9922971176166695]|[0.1867816091954023]|[0.3418580375782881]|[0.3117890382626681]|[0.18518518518518...|\n",
      "|         0.0|                 0.0|         553.0|        1730.0|              3.0|               5.0|[0.9917543741464342]|[0.9917490521303187]|[0.3390804597701149]|[0.31158663883089...|[0.2171664943123061]|[0.1111111111111111]|\n",
      "|         0.0|                79.0|         553.0|        2482.0|              0.0|               0.0|[0.9910497160229496]|[0.9910443965050106]|[0.10919540229885...|[0.31158663883089...|[0.24974146845915...|               [0.0]|\n",
      "|         1.0|                79.0|         553.0|        8035.0|             17.0|              79.0|[0.9910497160229496]|[0.9910443965050106]|[0.10632183908045...|[0.31158663883089...|[0.5573940020682524]|[0.2962962962962963]|\n",
      "|         1.0|               209.0|         553.0|         296.0|              1.0|               4.0|[0.9910497160229496]|[0.9910443965050106]|[0.16954022988505...|[0.31158663883089...|[0.5930713547052741]|[0.07407407407407...|\n",
      "|         1.0|                 6.0|         553.0|        2411.0|              1.0|              35.0|[0.9909714206758957]| [0.990966101435532]|[0.08620689655172...|[0.31158663883089...|[0.42295760082730...|[0.03703703703703...|\n",
      "|         0.0|                 2.0|         232.0|        1059.0|              9.0|              14.0|[0.9968435717049344]|[0.9969165267159114]|[0.08620689655172...|[0.16179540709812...|[0.18200620475698...|[0.25925925925925...|\n",
      "|         1.0|                 2.0|        1981.0|          43.0|             39.0|             275.0|[0.9968435717049344]|[0.9968382316464327]|[0.12068965517241...|[0.18632567849686...|[0.15770423991726...|[0.2222222222222222]|\n",
      "|         1.0|                 2.0|         232.0|        1059.0|              9.0|              14.0|[0.9968435717049344]|[0.9968382316464327]|[0.14655172413793...|[0.16179540709812...|[0.18200620475698...|[0.25925925925925...|\n",
      "|         1.0|               149.0|        1981.0|          43.0|              9.0|              14.0|[0.9962172089285036]|[0.9962118710906033]|[0.1867816091954023]|[0.18632567849686...|[0.15770423991726...|[0.25925925925925...|\n",
      "|         1.0|                 2.0|         232.0|        7837.0|              4.0|              10.0|[0.9962172089285036]|[0.9962118710906033]|[0.28735632183908...|[0.16179540709812...|[0.2642192347466391]|[0.14814814814814...|\n",
      "|         0.0|                45.0|        4314.0|          43.0|              2.0|              21.0|[0.9942598252521574]|[0.9942544943536363]|[0.06896551724137...|[0.3736951983298538]|[0.15770423991726...|[0.03703703703703...|\n",
      "|         1.0|                 2.0|         232.0|        5740.0|             14.0|              13.0|[0.9879179021407956]|[0.9879125937258637]|[0.03735632183908...|[0.16179540709812...|[0.4586349534643227]|[0.18518518518518...|\n",
      "+------------+--------------------+--------------+--------------+-----------------+------------------+--------------------+--------------------+--------------------+--------------------+--------------------+--------------------+\n",
      "only showing top 20 rows\n",
      "\n"
     ]
    }
   ],
   "source": [
    "from pyspark.ml.feature import MinMaxScaler, VectorAssembler\n",
    "\n",
    "columns_to_scale = [\"created_at\", \"last_move_at\", \"turns\", \"white_rating\", \"black_rating\", \"opening_ply\"]\n",
    "assemblers = [VectorAssembler(inputCols=[col], outputCol=col+\"_vec\") for col in columns_to_scale]\n",
    "scalers = [MinMaxScaler(inputCol=col + \"_vec\", outputCol=col + \"_scaled\") for col in columns_to_scale]\n",
    "pipeline = Pipeline(stages=assemblers + scalers)\n",
    "scalerModel = pipeline.fit(data)\n",
    "scaledData = scalerModel.transform(data)\n",
    "\n",
    "data = scaledData.drop(\"created_at\", \"last_move_at\", \"turns\", \"white_rating\", \"black_rating\", \"opening_ply\", \"rated_vec\", \"created_at_vec\", \"last_move_at_vec\", \"turns_vec\", \"white_rating_vec\", \"black_rating_vec\", \"opening_ply_vec\")\n",
    "data.show()"
   ]
  },
  {
   "cell_type": "code",
   "execution_count": 16,
   "id": "03d43892",
   "metadata": {},
   "outputs": [
    {
     "data": {
      "text/plain": [
       "19108"
      ]
     },
     "execution_count": 16,
     "metadata": {},
     "output_type": "execute_result"
    }
   ],
   "source": [
    "data.count()"
   ]
  },
  {
   "cell_type": "markdown",
   "id": "e596f403",
   "metadata": {},
   "source": [
    "Implement Neural Network"
   ]
  },
  {
   "cell_type": "code",
   "execution_count": 17,
   "id": "ee4a27ba",
   "metadata": {},
   "outputs": [],
   "source": [
    "from pyspark.ml.classification import MultilayerPerceptronClassifier\n",
    "from pyspark.ml.evaluation import MulticlassClassificationEvaluator\n",
    "from pyspark.sql import Row\n",
    "from pyspark.ml.linalg import Vectors"
   ]
  },
  {
   "cell_type": "code",
   "execution_count": 18,
   "id": "081664e7",
   "metadata": {},
   "outputs": [],
   "source": [
    "layers = [11, 7, 4, 2]"
   ]
  },
  {
   "cell_type": "code",
   "execution_count": 19,
   "id": "36b5136e",
   "metadata": {},
   "outputs": [],
   "source": [
    "assembler = VectorAssembler(inputCols=[\"increment_code_index\", \"white_id_index\", \"black_id_index\", \"opening_eco_index\", \"opening_name_index\", \"created_at_scaled\", \"last_move_at_scaled\", \"turns_scaled\", \"white_rating_scaled\", \"black_rating_scaled\", \"opening_ply_scaled\"], outputCol=\"features\")"
   ]
  },
  {
   "cell_type": "code",
   "execution_count": 20,
   "id": "d6edc906",
   "metadata": {},
   "outputs": [],
   "source": [
    "output = assembler.transform(data)"
   ]
  },
  {
   "cell_type": "code",
   "execution_count": 21,
   "id": "e967aa80",
   "metadata": {},
   "outputs": [
    {
     "name": "stdout",
     "output_type": "stream",
     "text": [
      "root\n",
      " |-- winner_index: double (nullable = false)\n",
      " |-- increment_code_index: double (nullable = false)\n",
      " |-- white_id_index: double (nullable = false)\n",
      " |-- black_id_index: double (nullable = false)\n",
      " |-- opening_eco_index: double (nullable = false)\n",
      " |-- opening_name_index: double (nullable = false)\n",
      " |-- created_at_scaled: vector (nullable = true)\n",
      " |-- last_move_at_scaled: vector (nullable = true)\n",
      " |-- turns_scaled: vector (nullable = true)\n",
      " |-- white_rating_scaled: vector (nullable = true)\n",
      " |-- black_rating_scaled: vector (nullable = true)\n",
      " |-- opening_ply_scaled: vector (nullable = true)\n",
      " |-- features: vector (nullable = true)\n",
      "\n"
     ]
    }
   ],
   "source": [
    "output.printSchema()"
   ]
  },
  {
   "cell_type": "code",
   "execution_count": 22,
   "id": "22d6675b",
   "metadata": {
    "scrolled": true
   },
   "outputs": [
    {
     "name": "stdout",
     "output_type": "stream",
     "text": [
      "+------------+--------------------+--------------+--------------+-----------------+------------------+--------------------+--------------------+--------------------+--------------------+--------------------+--------------------+--------------------+\n",
      "|winner_index|increment_code_index|white_id_index|black_id_index|opening_eco_index|opening_name_index|   created_at_scaled| last_move_at_scaled|        turns_scaled| white_rating_scaled| black_rating_scaled|  opening_ply_scaled|            features|\n",
      "+------------+--------------------+--------------+--------------+-----------------+------------------+--------------------+--------------------+--------------------+--------------------+--------------------+--------------------+--------------------+\n",
      "|         0.0|                21.0|        3068.0|        1114.0|             44.0|             226.0|[0.9977831158695807]|[0.9977777724801767]|[0.03448275862068...|[0.3736951983298538]|[0.20785935884177...|[0.14814814814814...|[21.0,3068.0,1114...|\n",
      "|         1.0|                16.0|        2131.0|        7830.0|              7.0|             613.0|[0.9971567530931499]|[0.9971514119243473]|[0.04310344827586...|[0.2807933194154488]|[0.2440537745604964]|[0.1111111111111111]|[16.0,2131.0,7830...|\n",
      "|         0.0|                16.0|        4941.0|        1114.0|              5.0|              20.0|[0.9971567530931499]|[0.9971514119243473]|[0.1724137931034483]|  [0.37160751565762]|[0.3676318510858325]|[0.07407407407407...|[16.0,4941.0,1114...|\n",
      "|         0.0|                 7.0|         617.0|         695.0|             11.0|              32.0|[0.9970001623990422]|  [0.99699482178539]|[0.1724137931034483]|[0.3418580375782881]| [0.343846949327818]|[0.07407407407407...|[7.0,617.0,695.0,...|\n",
      "|         0.0|               160.0|         999.0|         695.0|              4.0|              24.0|[0.9963737996226114]|[0.9963684612295606]|[0.27011494252873...|[0.3856993736951983]|[0.3516028955532575]|[0.14814814814814...|[160.0,999.0,695....|\n",
      "|         0.0|                 0.0|        3202.0|        1335.0|              2.0|             878.0|[0.9979397065636884]|[0.9979343626191342]|[0.09195402298850...|[0.38413361169102...|[0.32781799379524...|[0.3333333333333333]|[0.0,3202.0,1335....|\n",
      "|         1.0|                88.0|         553.0|        1959.0|              7.0|              73.0|[0.9936334624757266]| [0.993628133797807]|[0.02298850574712...|[0.32828810020876...|[0.6820062047569804]|[0.14814814814814...|[88.0,553.0,1959....|\n",
      "|         1.0|                 1.0|        3948.0|        1335.0|              9.0|             109.0|[0.9923024415758112]|[0.9922971176166695]|[0.1867816091954023]|[0.3418580375782881]|[0.3117890382626681]|[0.18518518518518...|[1.0,3948.0,1335....|\n",
      "|         0.0|                 0.0|         553.0|        1730.0|              3.0|               5.0|[0.9917543741464342]|[0.9917490521303187]|[0.3390804597701149]|[0.31158663883089...|[0.2171664943123061]|[0.1111111111111111]|[0.0,553.0,1730.0...|\n",
      "|         0.0|                79.0|         553.0|        2482.0|              0.0|               0.0|[0.9910497160229496]|[0.9910443965050106]|[0.10919540229885...|[0.31158663883089...|[0.24974146845915...|               [0.0]|[79.0,553.0,2482....|\n",
      "|         1.0|                79.0|         553.0|        8035.0|             17.0|              79.0|[0.9910497160229496]|[0.9910443965050106]|[0.10632183908045...|[0.31158663883089...|[0.5573940020682524]|[0.2962962962962963]|[79.0,553.0,8035....|\n",
      "|         1.0|               209.0|         553.0|         296.0|              1.0|               4.0|[0.9910497160229496]|[0.9910443965050106]|[0.16954022988505...|[0.31158663883089...|[0.5930713547052741]|[0.07407407407407...|[209.0,553.0,296....|\n",
      "|         1.0|                 6.0|         553.0|        2411.0|              1.0|              35.0|[0.9909714206758957]| [0.990966101435532]|[0.08620689655172...|[0.31158663883089...|[0.42295760082730...|[0.03703703703703...|[6.0,553.0,2411.0...|\n",
      "|         0.0|                 2.0|         232.0|        1059.0|              9.0|              14.0|[0.9968435717049344]|[0.9969165267159114]|[0.08620689655172...|[0.16179540709812...|[0.18200620475698...|[0.25925925925925...|[2.0,232.0,1059.0...|\n",
      "|         1.0|                 2.0|        1981.0|          43.0|             39.0|             275.0|[0.9968435717049344]|[0.9968382316464327]|[0.12068965517241...|[0.18632567849686...|[0.15770423991726...|[0.2222222222222222]|[2.0,1981.0,43.0,...|\n",
      "|         1.0|                 2.0|         232.0|        1059.0|              9.0|              14.0|[0.9968435717049344]|[0.9968382316464327]|[0.14655172413793...|[0.16179540709812...|[0.18200620475698...|[0.25925925925925...|[2.0,232.0,1059.0...|\n",
      "|         1.0|               149.0|        1981.0|          43.0|              9.0|              14.0|[0.9962172089285036]|[0.9962118710906033]|[0.1867816091954023]|[0.18632567849686...|[0.15770423991726...|[0.25925925925925...|[149.0,1981.0,43....|\n",
      "|         1.0|                 2.0|         232.0|        7837.0|              4.0|              10.0|[0.9962172089285036]|[0.9962118710906033]|[0.28735632183908...|[0.16179540709812...|[0.2642192347466391]|[0.14814814814814...|[2.0,232.0,7837.0...|\n",
      "|         0.0|                45.0|        4314.0|          43.0|              2.0|              21.0|[0.9942598252521574]|[0.9942544943536363]|[0.06896551724137...|[0.3736951983298538]|[0.15770423991726...|[0.03703703703703...|[45.0,4314.0,43.0...|\n",
      "|         1.0|                 2.0|         232.0|        5740.0|             14.0|              13.0|[0.9879179021407956]|[0.9879125937258637]|[0.03735632183908...|[0.16179540709812...|[0.4586349534643227]|[0.18518518518518...|[2.0,232.0,5740.0...|\n",
      "+------------+--------------------+--------------+--------------+-----------------+------------------+--------------------+--------------------+--------------------+--------------------+--------------------+--------------------+--------------------+\n",
      "only showing top 20 rows\n",
      "\n"
     ]
    }
   ],
   "source": [
    "output.show()"
   ]
  },
  {
   "cell_type": "code",
   "execution_count": 23,
   "id": "520c6a6f",
   "metadata": {
    "scrolled": true
   },
   "outputs": [],
   "source": [
    "data = output.drop(\"increment_code_index\", \"white_id_index\", \"black_id_index\", \"opening_eco_index\", \"opening_name_index\", \"created_at_scaled\", \"last_move_at_scaled\", \"turns_scaled\", \"white_rating_scaled\", \"black_rating_scaled\", \"opening_ply_scaled\")\n",
    "data = data.withColumnRenamed(\"winner_index\", \"label\")"
   ]
  },
  {
   "cell_type": "code",
   "execution_count": 24,
   "id": "46f8a250",
   "metadata": {
    "scrolled": true
   },
   "outputs": [
    {
     "name": "stdout",
     "output_type": "stream",
     "text": [
      "+-----+---------------------------------------------------------------------------------------------------------------------------------------------------+\n",
      "|label|features                                                                                                                                           |\n",
      "+-----+---------------------------------------------------------------------------------------------------------------------------------------------------+\n",
      "|1.0  |[12.0,0.0,705.0,9.0,33.0,0.9941032345580497,0.994097904214679,0.09482758620689655,0.2635699373695198,0.35935884177869704,0.18518518518518517]      |\n",
      "|0.0  |[0.0,3656.0,6589.0,19.0,127.0,0.9803232534765721,0.9803179719864322,0.27586206896551724,0.3736951983298538,0.2942088934850052,0.18518518518518517] |\n",
      "|0.0  |[44.0,559.0,2715.0,57.0,1.0,0.7385472217742834,0.7385427974362834,0.08045977011494253,0.38048016701461373,0.34488107549120994,0.14814814814814814] |\n",
      "|1.0  |[21.0,286.0,6735.0,103.0,281.0,0.9767999628591488,0.9767946938598918,0.14655172413793102,0.28549060542797494,0.3066184074457084,0.1111111111111111]|\n",
      "|0.0  |[2.0,78.0,8696.0,10.0,289.0,0.9830635906234568,0.9830582994181858,0.1724137931034483,0.17693110647181626,0.15253360910031025,0.18518518518518517]  |\n",
      "|1.0  |[0.0,78.0,7936.0,1.0,172.0,0.9817325697235414,0.9817272832370484,0.3132183908045977,0.17223382045929017,0.12306101344364014,0.14814814814814814]   |\n",
      "|0.0  |[0.0,1672.0,6.0,2.0,212.0,0.9931636903934036,0.9931583633809349,0.26436781609195403,0.47599164926931103,0.48241985522233716,0.07407407407407407]   |\n",
      "|0.0  |[0.0,1991.0,6.0,11.0,6.0,0.9896403997759803,0.9896350852543946,0.12068965517241378,0.5083507306889352,0.4720785935884178,0.1111111111111111]       |\n",
      "|1.0  |[0.0,4537.0,643.0,55.0,61.0,0.969988267665464,0.9699830228152471,0.1752873563218391,0.40135699373695194,0.5961737331954499,0.14814814814814814]    |\n",
      "|1.0  |[0.0,8173.0,36.0,150.0,314.0,0.9454818240376089,0.9454766660684217,0.21551724137931033,0.45407098121085593,0.5837642192347466,0.25925925925925924] |\n",
      "|1.0  |[0.0,151.0,5386.0,14.0,13.0,0.9448554612611781,0.9448503055125924,0.2672413793103448,0.31524008350730687,0.23216132368148915,0.18518518518518517]  |\n",
      "|0.0  |[0.0,2.0,706.0,4.0,12.0,0.996060618234396,0.9960552809516459,0.16091954022988506,0.2599164926931106,0.3634953464322648,0.1111111111111111]         |\n",
      "|1.0  |[0.0,1169.0,126.0,61.0,325.0,0.9872132440173109,0.9872079381005556,0.16091954022988506,0.394572025052192,0.4343329886246122,0.18518518518518517]   |\n",
      "|0.0  |[220.0,61.0,5000.0,1.0,35.0,0.8577127399902431,0.8577078931828269,0.1752873563218391,0.18997912317327764,0.19441571871768357,0.037037037037037035] |\n",
      "|1.0  |[1.0,223.0,5546.0,4.0,410.0,0.9685006560714408,0.9684954164951523,0.32471264367816094,0.24582463465553234,0.19027921406411583,0.2222222222222222]  |\n",
      "|0.0  |[69.0,223.0,5169.0,7.0,1440.0,0.9681874746832254,0.9681822362172375,0.3045977011494253,0.23486430062630478,0.15408479834539815,0.1111111111111111] |\n",
      "|1.0  |[99.0,6805.0,39.0,0.0,0.0,0.8951379158819833,0.8951329363936337,0.09482758620689655,0.2635699373695198,0.27507755946225443,0.0]                    |\n",
      "|1.0  |[0.0,101.0,3246.0,52.0,6.0,0.8299961871331801,0.8300697336568547,0.25,0.3053235908141962,0.6623578076525336,0.1111111111111111]                    |\n",
      "|0.0  |[0.0,7239.0,94.0,7.0,17.0,0.8237325593688721,0.8237278330290819,0.24137931034482757,0.26983298538622125,0.1830403309203723,0.037037037037037035]   |\n",
      "|0.0  |[8.0,4918.0,160.0,57.0,65.0,0.9050814249578223,0.9050764102174254,0.1235632183908046,0.5594989561586639,0.485005170630817,0.18518518518518517]     |\n",
      "+-----+---------------------------------------------------------------------------------------------------------------------------------------------------+\n",
      "only showing top 20 rows\n",
      "\n"
     ]
    }
   ],
   "source": [
    "data = data.dropDuplicates() #dropping duplicates slow program down a lot\n",
    "data.show(truncate=False)"
   ]
  },
  {
   "cell_type": "code",
   "execution_count": 25,
   "id": "8aaa13cc",
   "metadata": {},
   "outputs": [],
   "source": [
    "[train, test] = data.randomSplit([0.6, 0.4], 1234)"
   ]
  },
  {
   "cell_type": "code",
   "execution_count": 26,
   "id": "d9e306d3",
   "metadata": {},
   "outputs": [],
   "source": [
    "trainer = MultilayerPerceptronClassifier(labelCol=\"label\", featuresCol=\"features\", maxIter=100, layers=layers, blockSize=128, seed=1234)"
   ]
  },
  {
   "cell_type": "code",
   "execution_count": 27,
   "id": "017c8b40",
   "metadata": {},
   "outputs": [],
   "source": [
    "model = trainer.fit(train)"
   ]
  },
  {
   "cell_type": "code",
   "execution_count": null,
   "id": "6cb4b8d3",
   "metadata": {},
   "outputs": [],
   "source": [
    "result = model.transform(test)"
   ]
  },
  {
   "cell_type": "code",
   "execution_count": null,
   "id": "92847749",
   "metadata": {},
   "outputs": [],
   "source": [
    "print(result.columns)"
   ]
  },
  {
   "cell_type": "code",
   "execution_count": null,
   "id": "d8ce9135",
   "metadata": {},
   "outputs": [],
   "source": [
    "result.printSchema()"
   ]
  },
  {
   "cell_type": "code",
   "execution_count": null,
   "id": "2f1a001b",
   "metadata": {},
   "outputs": [],
   "source": [
    "result.show()"
   ]
  },
  {
   "cell_type": "code",
   "execution_count": null,
   "id": "a1019803",
   "metadata": {},
   "outputs": [],
   "source": [
    "predictionAndLabels = result.select(\"prediction\", \"label\")"
   ]
  },
  {
   "cell_type": "code",
   "execution_count": null,
   "id": "25fe0d81",
   "metadata": {},
   "outputs": [],
   "source": [
    "evaluator = MulticlassClassificationEvaluator(labelCol=\"label\", predictionCol=\"prediction\", metricName=\"accuracy\")"
   ]
  },
  {
   "cell_type": "code",
   "execution_count": null,
   "id": "3e1ed276",
   "metadata": {},
   "outputs": [],
   "source": [
    "print(\"Test set accuracy = \" + str(evaluator.evaluate(predictionAndLabels)))"
   ]
  },
  {
   "cell_type": "code",
   "execution_count": null,
   "id": "ac78105e",
   "metadata": {},
   "outputs": [],
   "source": []
  }
 ],
 "metadata": {
  "kernelspec": {
   "display_name": "Python 3 (ipykernel)",
   "language": "python",
   "name": "python3"
  },
  "language_info": {
   "codemirror_mode": {
    "name": "ipython",
    "version": 3
   },
   "file_extension": ".py",
   "mimetype": "text/x-python",
   "name": "python",
   "nbconvert_exporter": "python",
   "pygments_lexer": "ipython3",
   "version": "3.9.12"
  }
 },
 "nbformat": 4,
 "nbformat_minor": 5
}
