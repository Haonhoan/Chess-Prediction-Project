{
 "cells": [
  {
   "cell_type": "code",
   "execution_count": 1,
   "id": "d3de7cfd",
   "metadata": {},
   "outputs": [],
   "source": [
    "import findspark\n",
    "findspark.init()"
   ]
  },
  {
   "cell_type": "code",
   "execution_count": 2,
   "id": "aec6bcfb",
   "metadata": {},
   "outputs": [],
   "source": [
    "from pyspark.sql import SparkSession\n",
    "spark = SparkSession.builder.master(\"local[*]\").getOrCreate()"
   ]
  },
  {
   "cell_type": "code",
   "execution_count": 3,
   "id": "0b0d22b1",
   "metadata": {},
   "outputs": [],
   "source": [
    "import os"
   ]
  },
  {
   "cell_type": "code",
   "execution_count": 4,
   "id": "ec361eac",
   "metadata": {},
   "outputs": [],
   "source": [
    "data = spark.read.option(\"mode\", 'DROPMALFORMED').csv(\"games.csv\", header=True, inferSchema=True)"
   ]
  },
  {
   "cell_type": "code",
   "execution_count": 5,
   "id": "6bd159b6",
   "metadata": {
    "scrolled": false
   },
   "outputs": [
    {
     "name": "stdout",
     "output_type": "stream",
     "text": [
      "root\n",
      " |-- id: string (nullable = true)\n",
      " |-- rated: boolean (nullable = true)\n",
      " |-- created_at: double (nullable = true)\n",
      " |-- last_move_at: double (nullable = true)\n",
      " |-- turns: integer (nullable = true)\n",
      " |-- victory_status: string (nullable = true)\n",
      " |-- winner: string (nullable = true)\n",
      " |-- increment_code: string (nullable = true)\n",
      " |-- white_id: string (nullable = true)\n",
      " |-- white_rating: integer (nullable = true)\n",
      " |-- black_id: string (nullable = true)\n",
      " |-- black_rating: integer (nullable = true)\n",
      " |-- moves: string (nullable = true)\n",
      " |-- opening_eco: string (nullable = true)\n",
      " |-- opening_name: string (nullable = true)\n",
      " |-- opening_ply: integer (nullable = true)\n",
      "\n"
     ]
    }
   ],
   "source": [
    "data.printSchema()"
   ]
  },
  {
   "cell_type": "code",
   "execution_count": 6,
   "id": "d50c9110",
   "metadata": {},
   "outputs": [
    {
     "data": {
      "text/plain": [
       "20058"
      ]
     },
     "execution_count": 6,
     "metadata": {},
     "output_type": "execute_result"
    }
   ],
   "source": [
    "data.count()"
   ]
  },
  {
   "cell_type": "code",
   "execution_count": 7,
   "id": "dd13a9ed",
   "metadata": {},
   "outputs": [],
   "source": [
    "data.createOrReplaceTempView(\"data\")"
   ]
  },
  {
   "cell_type": "code",
   "execution_count": 8,
   "id": "d84bcb69",
   "metadata": {},
   "outputs": [],
   "source": [
    "from pyspark.sql.functions import length\n",
    "data = data.where(length(\"moves\") >= 90)"
   ]
  },
  {
   "cell_type": "code",
   "execution_count": 9,
   "id": "35fcc2e8",
   "metadata": {},
   "outputs": [
    {
     "data": {
      "text/plain": [
       "17957"
      ]
     },
     "execution_count": 9,
     "metadata": {},
     "output_type": "execute_result"
    }
   ],
   "source": [
    "data.count()"
   ]
  },
  {
   "cell_type": "code",
   "execution_count": 10,
   "id": "31176d37",
   "metadata": {},
   "outputs": [
    {
     "name": "stdout",
     "output_type": "stream",
     "text": [
      "+--------+-----+----------+------------+-----+--------------+------+--------------+------------------+------------+------------------+------------+-----------+---------------------------------------------------------------------+-----------+-----+-----+-----+-----+-----+-----+-----+-----+-----+------+------+------+------+------+------+------+------+------+------+------+\n",
      "|id      |rated|created_at|last_move_at|turns|victory_status|winner|increment_code|white_id          |white_rating|black_id          |black_rating|opening_eco|opening_name                                                         |opening_ply|move1|move2|move3|move4|move5|move6|move7|move8|move9|move10|move11|move12|move13|move14|move15|move16|move17|move18|move19|move20|\n",
      "+--------+-----+----------+------------+-----+--------------+------+--------------+------------------+------------+------------------+------------+-----------+---------------------------------------------------------------------+-----------+-----+-----+-----+-----+-----+-----+-----+-----+-----+------+------+------+------+------+------+------+------+------+------+------+\n",
      "|mIICvQHh|true |1.50413E12|1.50413E12  |61   |mate          |white |5+10          |ischia            |1496        |a-00              |1500        |C20        |King's Pawn Game: Leonardis Variation                                |3          |e4   |e5   |d3   |d6   |Be3  |c6   |Be2  |b5   |Nd2  |a5    |a4    |c5    |axb5  |Nc6   |bxc6  |Ra6   |Nc4   |a4    |c3    |a3    |\n",
      "|kWKvrqYL|true |1.50411E12|1.50411E12  |61   |mate          |white |20+0          |daniamurashov     |1439        |adivanov2009      |1454        |D02        |Queen's Pawn Game: Zukertort Variation                               |3          |d4   |d5   |Nf3  |Bf5  |Nc3  |Nf6  |Bf4  |Ng4  |e3   |Nc6   |Be2   |Qd7   |O-O   |O-O-O |Nb5   |Nb4   |Rc1   |Nxa2  |Ra1   |Nb4   |\n",
      "|9tXo1AUZ|true |1.50403E12|1.50403E12  |95   |mate          |white |30+3          |nik221107         |1523        |adivanov2009      |1469        |C41        |Philidor Defense                                                     |5          |e4   |e5   |Nf3  |d6   |d4   |Nc6  |d5   |Nb4  |a3   |Na6   |Nc3   |Be7   |b4    |Nf6   |Bg5   |O-O   |b5    |Nc5   |Bxf6  |Bxf6  |\n",
      "|qwU9rasv|true |1.50423E12|1.50423E12  |33   |resign        |white |10+0          |capa_jr           |1520        |daniel_likes_chess|1423        |D00        |Blackmar-Diemer Gambit: Pietrowsky Defense                           |10         |d4   |d5   |e4   |dxe4 |Nc3  |Nf6  |f3   |exf3 |Nxf3 |Nc6   |Bb5   |a6    |Bd3   |Bg4   |O-O   |Nxd4  |Be2   |Nxe2+ |Qxe2  |Bxf3  |\n",
      "|dwF3DJHO|true |1.50351E12|1.50351E12  |66   |resign        |black |15+0          |ehabfanri         |1439        |daniel_likes_chess|1392        |C50        |Italian Game: Schilling-Kostic Gambit                                |6          |e4   |e5   |Bc4  |Nc6  |Nf3  |Nd4  |d3   |Nxf3+|Qxf3 |Nf6   |h3    |Bc5   |a3    |O-O   |Be3   |Bxe3  |Qxe3  |Re8   |Qf3   |c6    |\n",
      "|afoMwnLg|true |1.50344E12|1.50344E12  |119  |mate          |white |10+0          |daniel_likes_chess|1381        |mirco25           |1209        |B01        |Scandinavian Defense: Mieses-Kotroc Variation                        |4          |e4   |d5   |exd5 |Qxd5 |Nc3  |Qe5+ |Be2  |Na6  |d4   |Qf5   |Bxa6  |bxa6  |Nf3   |Qe6+  |Be3   |Bb7   |Ng5   |Qc4   |Qh5   |Bxg2  |\n",
      "|HgKLWPsz|false|1.50335E12|1.50335E12  |39   |mate          |white |20+60         |daniel_likes_chess|1381        |anaissac          |1272        |A00        |Van't Kruijs Opening                                                 |1          |e3   |e6   |d4   |d6   |Bd3  |c6   |Nf3  |Be7  |Nc3  |Nf6   |Bd2   |Bd7   |Qe2   |c5    |dxc5  |dxc5  |O-O   |b6    |Rfe1  |Bc6   |\n",
      "|Vf5fKWzI|false|1.50335E12|1.50335E12  |38   |resign        |black |20+60         |daniel_likes_chess|1381        |subham777         |1867        |C02        |French Defense: Advance Variation |  Paulsen Attack                  |9          |e4   |e6   |d4   |d5   |e5   |c5   |c3   |Nc6  |Nf3  |Qb6   |Be3   |Qxb2  |Nbd2  |cxd4  |cxd4  |Nb4   |Rb1   |Qxa2  |Qb3   |Qxb3  |\n",
      "|HRti5mKv|false|1.50335E12|1.50335E12  |60   |resign        |black |5+40          |daniel_likes_chess|1381        |roman12342005     |1936        |C00        |French Defense: Knight Variation                                     |3          |e4   |e6   |Nf3  |d5   |exd5 |exd5 |Qe2+ |Be7  |Nc3  |Nf6   |d4    |O-O   |g4    |Bxg4  |Bg2   |Nbd7  |O-O   |c6    |h3    |Bh5   |\n",
      "|2fEjSei6|false|1.50334E12|1.50334E12  |31   |resign        |black |8+0           |daniel_likes_chess|1381        |alkhan            |1607        |C00        |French Defense #2                                                    |2          |e4   |e6   |Qh5  |g6   |Qe5  |Nf6  |d4   |d6   |Qb5+ |Bd7   |Qxb7  |Bc6   |Qb3   |Nxe4  |Qe3   |Nd7   |f3    |Nef6  |Bd3   |Bg7   |\n",
      "|u7i6dOaJ|false|1.50409E12|1.5041E12   |31   |mate          |white |15+15         |shivangithegenius |1094        |sureka_akshat     |1141        |C50        |Four Knights Game: Italian Variation                                 |8          |e4   |e5   |Nf3  |Nc6  |Bc4  |Nf6  |Nc3  |Bc5  |O-O  |O-O   |d3    |Ne8   |Bg5   |Nf6   |Nd5   |h6    |Nxf6+ |gxf6  |Bxh6  |Re8   |\n",
      "|guanvMR5|false|1.50409E12|1.50409E12  |43   |resign        |black |15+15         |sureka_akshat     |1141        |shivangithegenius |1094        |C57        |Italian Game: Two Knights Defense |  Knight Attack                   |7          |e4   |e5   |Nf3  |Nc6  |Bc4  |Nf6  |Ng5  |Qe7  |O-O  |Nxe4  |Nxe4  |h6    |Re1   |Qh4   |g3    |Qd8   |Nec3  |Bc5   |Kh1   |O-O   |\n",
      "|PmpkWkmm|false|1.50409E12|1.50409E12  |52   |resign        |black |15+15         |shivangithegenius |1094        |sureka_akshat     |1141        |C50        |Four Knights Game: Italian Variation                                 |8          |e4   |e5   |Nf3  |Nc6  |Bc4  |Nf6  |Nc3  |Bc5  |O-O  |O-O   |Ne1   |d6    |d3    |Ne8   |Qf3   |Nd4   |Qg3   |Bb4   |Bh6   |g6    |\n",
      "|EwaK0IsE|false|1.50401E12|1.50401E12  |66   |mate          |black |15+16         |sureka_akshat     |1141        |shivangithegenius |1094        |C50        |Four Knights Game: Italian Variation                                 |8          |e4   |e5   |Nf3  |Nc6  |Bc4  |Nf6  |Nc3  |Bc5  |O-O  |O-O   |Ne1   |Ne8   |Qf3   |Qg5   |d4    |Qg6   |dxc5  |Nd4   |Qd1   |d6    |\n",
      "|yrSDozT3|false|1.50401E12|1.50401E12  |101  |resign        |black |15+15         |shivangithegenius |1094        |slam_ment         |1300        |C41        |Philidor Defense #3                                                  |5          |e4   |e5   |Nf3  |d6   |Bc4  |Be6  |d3   |Bxc4 |dxc4 |c5    |O-O   |h6    |Nc3   |Nf6   |Nd5   |Nxe4  |Re1   |Nf6   |Nxf6+ |Qxf6  |\n",
      "|x31mXlvc|false|1.50376E12|1.50376E12  |25   |resign        |white |11+0          |g-ios             |1500        |shivangithegenius |1094        |D00        |Queen's Pawn Game                                                    |2          |d4   |d5   |h3   |Nc6  |Nf3  |Nf6  |Bg5  |h6   |Bxf6 |exf6  |e3    |Bb4+  |c3    |Bd6   |Bb5   |Bd7   |O-O   |a6    |Ba4   |b5    |\n",
      "|UhXXBOMY|true |1.50295E12|1.50295E12  |36   |resign        |white |10+0          |robotsmoke        |1307        |shivangithegenius |1106        |A25        |English Opening: King's English Variation |  Reversed Closed Sicilian|4          |c4   |Nc6  |Nc3  |e5   |g3   |Bc5  |Bg2  |Nge7 |e3   |b6    |a3    |Bb7   |b4    |Bd6   |Nb5   |O-O   |Nxd6  |cxd6  |Ne2   |Nf5   |\n",
      "|ifUMWtVj|true |1.50278E12|1.50278E12  |69   |mate          |white |10+10         |shivangithegenius |1078        |sureka_akshat     |1219        |D01        |Queen's Pawn Game: Chigorin Variation                                |4          |d4   |d5   |Nc3  |Nf6  |Bf4  |Bf5  |Nf3  |e6   |e3   |Be7   |Bb5+  |c6    |Bd3   |Bxd3  |Qxd3  |O-O   |Bg5   |Ng4   |Bxe7  |Qxe7  |\n",
      "|Wf0zuLQQ|true |1.50278E12|1.50278E12  |43   |resign        |white |10+10         |gmcarlsen403      |1825        |shivangithegenius |1079        |C45        |Scotch Game: Haxo Gambit                                             |8          |e4   |e5   |Nf3  |Nc6  |d4   |exd4 |Bc4  |Bc5  |c3   |dxc3  |Bxf7+ |Kxf7  |Qd5+  |Ke8   |Qxc5  |Qe7   |Qxe7+ |Ncxe7 |Nxc3  |d6    |\n",
      "|srz9QfSN|true |1.50278E12|1.50278E12  |54   |mate          |black |10+10         |mannat1           |1328        |shivangithegenius |1038        |D01        |Queen's Pawn Game: Chigorin Variation                                |4          |d4   |d5   |Nc3  |Nf6  |Nf3  |Nc6  |e3   |Bf5  |h4   |e6    |g3    |Bb4   |a3    |Bxc3+ |bxc3  |Ne4   |Rh2   |Nxc3  |Qd2   |Ne4   |\n",
      "+--------+-----+----------+------------+-----+--------------+------+--------------+------------------+------------+------------------+------------+-----------+---------------------------------------------------------------------+-----------+-----+-----+-----+-----+-----+-----+-----+-----+-----+------+------+------+------+------+------+------+------+------+------+------+\n",
      "only showing top 20 rows\n",
      "\n"
     ]
    }
   ],
   "source": [
    "from pyspark.sql.functions import split\n",
    "split_col = split(data['moves'], ' ')\n",
    "data = data.withColumn('move1', split_col.getItem(0)) \\\n",
    "       .withColumn('move2', split_col.getItem(1))   \\\n",
    "       .withColumn('move3', split_col.getItem(2))   \\\n",
    "       .withColumn('move4', split_col.getItem(3))   \\\n",
    "       .withColumn('move5', split_col.getItem(4))   \\\n",
    "       .withColumn('move6', split_col.getItem(5))   \\\n",
    "       .withColumn('move7', split_col.getItem(6))   \\\n",
    "       .withColumn('move8', split_col.getItem(7))   \\\n",
    "       .withColumn('move9', split_col.getItem(8))   \\\n",
    "       .withColumn('move10', split_col.getItem(9))  \\\n",
    "       .withColumn('move11', split_col.getItem(10)) \\\n",
    "       .withColumn('move12', split_col.getItem(11)) \\\n",
    "       .withColumn('move13', split_col.getItem(12)) \\\n",
    "       .withColumn('move14', split_col.getItem(13)) \\\n",
    "       .withColumn('move15', split_col.getItem(14)) \\\n",
    "       .withColumn('move16', split_col.getItem(15)) \\\n",
    "       .withColumn('move17', split_col.getItem(16)) \\\n",
    "       .withColumn('move18', split_col.getItem(17)) \\\n",
    "       .withColumn('move19', split_col.getItem(18)) \\\n",
    "       .withColumn('move20', split_col.getItem(19)) \n",
    "data = data.drop(\"moves\")\n",
    "data.show(truncate=False) "
   ]
  },
  {
   "cell_type": "markdown",
   "id": "c1abb515",
   "metadata": {},
   "source": [
    "Check for null values"
   ]
  },
  {
   "cell_type": "code",
   "execution_count": 11,
   "id": "acaebe55",
   "metadata": {},
   "outputs": [
    {
     "name": "stdout",
     "output_type": "stream",
     "text": [
      "+---+-----+----------+------------+-----+--------------+------+--------------+--------+------------+--------+------------+-----------+------------+-----------+-----+-----+-----+-----+-----+-----+-----+-----+-----+------+------+------+------+------+------+------+------+------+------+------+\n",
      "| id|rated|created_at|last_move_at|turns|victory_status|winner|increment_code|white_id|white_rating|black_id|black_rating|opening_eco|opening_name|opening_ply|move1|move2|move3|move4|move5|move6|move7|move8|move9|move10|move11|move12|move13|move14|move15|move16|move17|move18|move19|move20|\n",
      "+---+-----+----------+------------+-----+--------------+------+--------------+--------+------------+--------+------------+-----------+------------+-----------+-----+-----+-----+-----+-----+-----+-----+-----+-----+------+------+------+------+------+------+------+------+------+------+------+\n",
      "|  0|    0|         0|           0|    0|             0|     0|             0|       0|           0|       0|           0|          0|           0|          0|    0|    0|    0|    0|    0|    0|    0|    0|    0|     0|     0|     0|     0|     0|     0|     0|     0|     0|     0|     0|\n",
      "+---+-----+----------+------------+-----+--------------+------+--------------+--------+------------+--------+------------+-----------+------------+-----------+-----+-----+-----+-----+-----+-----+-----+-----+-----+------+------+------+------+------+------+------+------+------+------+------+\n",
      "\n"
     ]
    }
   ],
   "source": [
    "from pyspark.sql.functions import isnan, when, count, col\n",
    "data.select([count(when(col(c).isNull(),c)).alias(c) for c in data.columns]).show()"
   ]
  },
  {
   "cell_type": "markdown",
   "id": "cf33d79d",
   "metadata": {},
   "source": [
    "Remove rows where players drawed"
   ]
  },
  {
   "cell_type": "code",
   "execution_count": 12,
   "id": "15ce2448",
   "metadata": {},
   "outputs": [],
   "source": [
    "data.createOrReplaceTempView(\"data\")"
   ]
  },
  {
   "cell_type": "code",
   "execution_count": 13,
   "id": "c5c581e5",
   "metadata": {},
   "outputs": [],
   "source": [
    "data = spark.sql(\"SELECT * FROM data WHERE winner != 'draw'\")"
   ]
  },
  {
   "cell_type": "code",
   "execution_count": 14,
   "id": "341665f2",
   "metadata": {},
   "outputs": [
    {
     "data": {
      "text/plain": [
       "17106"
      ]
     },
     "execution_count": 14,
     "metadata": {},
     "output_type": "execute_result"
    }
   ],
   "source": [
    "data.count()"
   ]
  },
  {
   "cell_type": "markdown",
   "id": "4631fb05",
   "metadata": {},
   "source": [
    "Remove unnecessary columns and rows"
   ]
  },
  {
   "cell_type": "code",
   "execution_count": 15,
   "id": "9277fb61",
   "metadata": {},
   "outputs": [
    {
     "data": {
      "text/plain": [
       "17106"
      ]
     },
     "execution_count": 15,
     "metadata": {},
     "output_type": "execute_result"
    }
   ],
   "source": [
    "data = data.drop(\"id\",\"victory_status\",\"rated\")\n",
    "data.count()"
   ]
  },
  {
   "cell_type": "markdown",
   "id": "df4502e4",
   "metadata": {},
   "source": [
    "One Hot Encoding"
   ]
  },
  {
   "cell_type": "code",
   "execution_count": 16,
   "id": "8b2e4422",
   "metadata": {
    "scrolled": true
   },
   "outputs": [
    {
     "name": "stdout",
     "output_type": "stream",
     "text": [
      "root\n",
      " |-- created_at: double (nullable = true)\n",
      " |-- last_move_at: double (nullable = true)\n",
      " |-- turns: integer (nullable = true)\n",
      " |-- winner: string (nullable = true)\n",
      " |-- increment_code: string (nullable = true)\n",
      " |-- white_id: string (nullable = true)\n",
      " |-- white_rating: integer (nullable = true)\n",
      " |-- black_id: string (nullable = true)\n",
      " |-- black_rating: integer (nullable = true)\n",
      " |-- opening_eco: string (nullable = true)\n",
      " |-- opening_name: string (nullable = true)\n",
      " |-- opening_ply: integer (nullable = true)\n",
      " |-- move1: string (nullable = true)\n",
      " |-- move2: string (nullable = true)\n",
      " |-- move3: string (nullable = true)\n",
      " |-- move4: string (nullable = true)\n",
      " |-- move5: string (nullable = true)\n",
      " |-- move6: string (nullable = true)\n",
      " |-- move7: string (nullable = true)\n",
      " |-- move8: string (nullable = true)\n",
      " |-- move9: string (nullable = true)\n",
      " |-- move10: string (nullable = true)\n",
      " |-- move11: string (nullable = true)\n",
      " |-- move12: string (nullable = true)\n",
      " |-- move13: string (nullable = true)\n",
      " |-- move14: string (nullable = true)\n",
      " |-- move15: string (nullable = true)\n",
      " |-- move16: string (nullable = true)\n",
      " |-- move17: string (nullable = true)\n",
      " |-- move18: string (nullable = true)\n",
      " |-- move19: string (nullable = true)\n",
      " |-- move20: string (nullable = true)\n",
      "\n"
     ]
    }
   ],
   "source": [
    "data.printSchema()"
   ]
  },
  {
   "cell_type": "code",
   "execution_count": 17,
   "id": "bb5c081a",
   "metadata": {},
   "outputs": [
    {
     "name": "stdout",
     "output_type": "stream",
     "text": [
      "+----------+------------+-----+------------+------------+-----------+------------+--------------------+--------------+--------------+-----------------+------------------+-----------+-----------+-----------+-----------+-----------+-----------+-----------+-----------+-----------+------------+------------+------------+------------+------------+------------+------------+------------+------------+------------+------------+\n",
      "|created_at|last_move_at|turns|white_rating|black_rating|opening_ply|winner_index|increment_code_index|white_id_index|black_id_index|opening_eco_index|opening_name_index|move1_index|move2_index|move3_index|move4_index|move5_index|move6_index|move7_index|move8_index|move9_index|move10_index|move11_index|move12_index|move13_index|move14_index|move15_index|move16_index|move17_index|move18_index|move19_index|move20_index|\n",
      "+----------+------------+-----+------------+------------+-----------+------------+--------------------+--------------+--------------+-----------------+------------------+-----------+-----------+-----------+-----------+-----------+-----------+-----------+-----------+-----------+------------+------------+------------+------------+------------+------------+------------+------------+------------+------------+------------+\n",
      "|1.50413E12|  1.50413E12|   61|        1496|        1500|          3|         0.0|                16.0|        4508.0|        1914.0|              6.0|              18.0|        0.0|        0.0|       10.0|        3.0|       39.0|       12.0|       11.0|       22.0|       51.0|        64.0|        44.0|        15.0|       177.0|         2.0|       330.0|       340.0|        93.0|       172.0|        13.0|       669.0|\n",
      "|1.50411E12|  1.50411E12|   61|        1439|        1454|          3|         0.0|                 8.0|         564.0|         627.0|             10.0|              30.0|        1.0|        1.0|        0.0|       19.0|        0.0|        0.0|       23.0|       65.0|        6.0|         1.0|         6.0|        59.0|         0.0|        74.0|        54.0|        57.0|        86.0|       375.0|       419.0|        50.0|\n",
      "|1.50403E12|  1.50403E12|   95|        1523|        1469|          5|         0.0|               149.0|         902.0|         627.0|              4.0|              23.0|        0.0|        0.0|        0.0|        3.0|        1.0|        1.0|       24.0|       52.0|       10.0|        67.0|         0.0|         3.0|        20.0|         1.0|         3.0|         0.0|        94.0|        82.0|        21.0|        59.0|\n",
      "|1.50423E12|  1.50423E12|   33|        1520|        1423|         10|         0.0|                 0.0|        2921.0|        1205.0|              2.0|             853.0|        1.0|        1.0|        7.0|       21.0|        0.0|        0.0|       31.0|       80.0|      119.0|         1.0|        15.0|         7.0|         3.0|        10.0|         0.0|        39.0|         9.0|       224.0|       137.0|        21.0|\n",
      "|1.50351E12|  1.50351E12|   66|        1439|        1392|          6|         1.0|                 1.0|        3599.0|        1205.0|              9.0|             160.0|        0.0|        0.0|        4.0|        0.0|        2.0|       36.0|        4.0|      127.0|       47.0|         0.0|         8.0|        24.0|         7.0|         0.0|         4.0|        95.0|       275.0|        19.0|        42.0|        10.0|\n",
      "|1.50344E12|  1.50344E12|  119|        1381|        1209|          4|         0.0|                 0.0|         565.0|        5762.0|              3.0|               4.0|        0.0|        1.0|        5.0|        9.0|        0.0|       44.0|       11.0|       73.0|        4.0|       138.0|       130.0|       156.0|         2.0|       201.0|         4.0|        18.0|        42.0|       296.0|       103.0|       148.0|\n",
      "|1.50335E12|  1.50335E12|   39|        1381|        1272|          1|         0.0|                83.0|         565.0|        2247.0|              0.0|               1.0|        4.0|        3.0|        1.0|        3.0|       18.0|       12.0|        1.0|        9.0|        0.0|         0.0|        14.0|        10.0|        27.0|        16.0|        58.0|       146.0|         0.0|        16.0|       180.0|       116.0|\n",
      "|1.50335E12|  1.50335E12|   38|        1381|        1867|          9|         1.0|                83.0|         565.0|        7390.0|             16.0|              68.0|        0.0|        3.0|        1.0|        1.0|        7.0|        7.0|        7.0|        1.0|        1.0|        26.0|        10.0|        98.0|        17.0|        24.0|        38.0|        57.0|        67.0|       213.0|        55.0|       422.0|\n",
      "|1.50335E12|  1.50335E12|   60|        1381|        1936|          3|         1.0|               226.0|         565.0|         244.0|              1.0|               3.0|        0.0|        3.0|        0.0|        1.0|        6.0|       18.0|       71.0|        9.0|        0.0|         0.0|         3.0|         1.0|        58.0|       167.0|        53.0|        12.0|         0.0|        12.0|         3.0|        66.0|\n",
      "|1.50334E12|  1.50334E12|   31|        1381|        1607|          2|         1.0|                 5.0|         565.0|        2183.0|              1.0|              39.0|        0.0|        3.0|       14.0|        5.0|       66.0|        0.0|        2.0|        2.0|      149.0|        12.0|       138.0|       178.0|        45.0|        36.0|       128.0|        41.0|        36.0|       519.0|         6.0|        39.0|\n",
      "|1.50409E12|   1.5041E12|   31|        1094|        1141|          8|         0.0|                 2.0|         470.0|         958.0|              9.0|              12.0|        0.0|        0.0|        0.0|        0.0|        3.0|        0.0|        0.0|        5.0|        2.0|         2.0|         4.0|       159.0|         5.0|         1.0|        29.0|         4.0|        85.0|        69.0|       112.0|        15.0|\n",
      "|1.50409E12|  1.50409E12|   43|        1141|        1094|          7|         1.0|                 2.0|        1781.0|          79.0|             49.0|             453.0|        0.0|        0.0|        0.0|        0.0|        3.0|        0.0|       25.0|       40.0|        2.0|        34.0|        66.0|         6.0|        25.0|       193.0|        43.0|        85.0|       315.0|        40.0|       123.0|         0.0|\n",
      "|1.50409E12|  1.50409E12|   52|        1094|        1141|          8|         1.0|                 2.0|         470.0|         958.0|              9.0|              12.0|        0.0|        0.0|        0.0|        0.0|        3.0|        0.0|        0.0|        5.0|        2.0|         2.0|       229.0|         5.0|         8.0|       208.0|        37.0|        36.0|        91.0|        34.0|       100.0|        24.0|\n",
      "|1.50401E12|  1.50401E12|   66|        1141|        1094|          8|         1.0|               136.0|        1781.0|          79.0|              9.0|              12.0|        0.0|        0.0|        0.0|        0.0|        3.0|        0.0|        0.0|        5.0|        2.0|         2.0|       229.0|       159.0|        47.0|       202.0|         9.0|       100.0|        61.0|        29.0|        78.0|        16.0|\n",
      "|1.50401E12|  1.50401E12|  101|        1094|        1300|          5|         1.0|                 2.0|         470.0|        7198.0|              4.0|              11.0|        0.0|        0.0|        0.0|        3.0|        3.0|       40.0|        4.0|      147.0|      195.0|        13.0|         2.0|         6.0|         1.0|         1.0|        29.0|        34.0|         8.0|         3.0|        89.0|        64.0|\n",
      "|1.50376E12|  1.50376E12|   25|        1500|        1094|          2|         0.0|                45.0|        3937.0|          79.0|              2.0|              25.0|        1.0|        1.0|       23.0|        0.0|        2.0|        0.0|       10.0|       12.0|       55.0|        94.0|        13.0|        29.0|        11.0|         9.0|        21.0|         9.0|         0.0|         4.0|       102.0|         8.0|\n",
      "|1.50295E12|  1.50295E12|   36|        1307|        1106|          4|         0.0|                 0.0|        1682.0|          79.0|            124.0|             190.0|        2.0|        8.0|        3.0|        7.0|       11.0|        6.0|       13.0|       56.0|        6.0|        23.0|        11.0|        25.0|        20.0|         9.0|        54.0|         0.0|       239.0|       128.0|        45.0|        75.0|\n",
      "|1.50278E12|  1.50278E12|   69|        1078|        1219|          4|         0.0|                10.0|         470.0|         958.0|             54.0|               7.0|        1.0|        1.0|        3.0|        2.0|       14.0|       14.0|        1.0|        3.0|        6.0|         6.0|        24.0|        13.0|         3.0|        92.0|        90.0|         0.0|         3.0|        46.0|        67.0|        96.0|\n",
      "|1.50278E12|  1.50278E12|   43|        1825|        1079|          8|         0.0|                10.0|        4066.0|          79.0|             17.0|             422.0|        0.0|        0.0|        0.0|        0.0|        1.0|       11.0|        6.0|        5.0|        5.0|        90.0|        68.0|        75.0|       267.0|       118.0|       287.0|        29.0|       208.0|       371.0|       139.0|        16.0|\n",
      "|1.50278E12|  1.50278E12|   54|        1328|        1038|          4|         1.0|                10.0|        5442.0|          79.0|             54.0|               7.0|        1.0|        1.0|        3.0|        2.0|        2.0|        1.0|        5.0|       19.0|       59.0|         4.0|        29.0|        16.0|         7.0|        42.0|        31.0|        30.0|       262.0|        72.0|        17.0|        30.0|\n",
      "+----------+------------+-----+------------+------------+-----------+------------+--------------------+--------------+--------------+-----------------+------------------+-----------+-----------+-----------+-----------+-----------+-----------+-----------+-----------+-----------+------------+------------+------------+------------+------------+------------+------------+------------+------------+------------+------------+\n",
      "only showing top 20 rows\n",
      "\n"
     ]
    }
   ],
   "source": [
    "from pyspark.ml.feature import StringIndexer, OneHotEncoder\n",
    "from pyspark.ml import Pipeline\n",
    "import numpy as np\n",
    "categoricalColumns = [item[0] for item in data.dtypes if item[1].startswith('string') ]\n",
    "\n",
    "stages = []\n",
    "\n",
    "for categoricalCol in categoricalColumns:\n",
    "    stringIndexer = StringIndexer(inputCol = categoricalCol, outputCol = categoricalCol + '_index')\n",
    "    stages += [stringIndexer]\n",
    "\n",
    "pipeline = Pipeline(stages = stages)\n",
    "\n",
    "pipelineModel = pipeline.fit(data)\n",
    "data = pipelineModel.transform(data)\n",
    "\n",
    "cols = np.array(categoricalColumns)\n",
    "data = data.drop(*cols)\n",
    "data.show()"
   ]
  },
  {
   "cell_type": "markdown",
   "id": "eaf09781",
   "metadata": {},
   "source": [
    "Minmax Scaler"
   ]
  },
  {
   "cell_type": "code",
   "execution_count": 18,
   "id": "61b6da72",
   "metadata": {},
   "outputs": [
    {
     "name": "stdout",
     "output_type": "stream",
     "text": [
      "root\n",
      " |-- created_at: double (nullable = true)\n",
      " |-- last_move_at: double (nullable = true)\n",
      " |-- turns: integer (nullable = true)\n",
      " |-- white_rating: integer (nullable = true)\n",
      " |-- black_rating: integer (nullable = true)\n",
      " |-- opening_ply: integer (nullable = true)\n",
      " |-- winner_index: double (nullable = false)\n",
      " |-- increment_code_index: double (nullable = false)\n",
      " |-- white_id_index: double (nullable = false)\n",
      " |-- black_id_index: double (nullable = false)\n",
      " |-- opening_eco_index: double (nullable = false)\n",
      " |-- opening_name_index: double (nullable = false)\n",
      " |-- move1_index: double (nullable = false)\n",
      " |-- move2_index: double (nullable = false)\n",
      " |-- move3_index: double (nullable = false)\n",
      " |-- move4_index: double (nullable = false)\n",
      " |-- move5_index: double (nullable = false)\n",
      " |-- move6_index: double (nullable = false)\n",
      " |-- move7_index: double (nullable = false)\n",
      " |-- move8_index: double (nullable = false)\n",
      " |-- move9_index: double (nullable = false)\n",
      " |-- move10_index: double (nullable = false)\n",
      " |-- move11_index: double (nullable = false)\n",
      " |-- move12_index: double (nullable = false)\n",
      " |-- move13_index: double (nullable = false)\n",
      " |-- move14_index: double (nullable = false)\n",
      " |-- move15_index: double (nullable = false)\n",
      " |-- move16_index: double (nullable = false)\n",
      " |-- move17_index: double (nullable = false)\n",
      " |-- move18_index: double (nullable = false)\n",
      " |-- move19_index: double (nullable = false)\n",
      " |-- move20_index: double (nullable = false)\n",
      "\n"
     ]
    }
   ],
   "source": [
    "data.printSchema()"
   ]
  },
  {
   "cell_type": "code",
   "execution_count": 19,
   "id": "7e13da98",
   "metadata": {},
   "outputs": [
    {
     "name": "stdout",
     "output_type": "stream",
     "text": [
      "+------------+--------------------+--------------+--------------+-----------------+------------------+-----------+-----------+-----------+-----------+-----------+-----------+-----------+-----------+-----------+------------+------------+------------+------------+------------+------------+------------+------------+------------+------------+------------+--------------------+--------------------+--------------------+--------------------+--------------------+--------------------+\n",
      "|winner_index|increment_code_index|white_id_index|black_id_index|opening_eco_index|opening_name_index|move1_index|move2_index|move3_index|move4_index|move5_index|move6_index|move7_index|move8_index|move9_index|move10_index|move11_index|move12_index|move13_index|move14_index|move15_index|move16_index|move17_index|move18_index|move19_index|move20_index|   created_at_scaled| last_move_at_scaled|        turns_scaled| white_rating_scaled| black_rating_scaled|  opening_ply_scaled|\n",
      "+------------+--------------------+--------------+--------------+-----------------+------------------+-----------+-----------+-----------+-----------+-----------+-----------+-----------+-----------+-----------+------------+------------+------------+------------+------------+------------+------------+------------+------------+------------+------------+--------------------+--------------------+--------------------+--------------------+--------------------+--------------------+\n",
      "|         0.0|                16.0|        4508.0|        1914.0|              6.0|              18.0|        0.0|        0.0|       10.0|        3.0|       39.0|       12.0|       11.0|       22.0|       51.0|        64.0|        44.0|        15.0|       177.0|         2.0|       330.0|       340.0|        93.0|       172.0|        13.0|       669.0| [0.997156747858596]| [0.997151401197749]|[0.12195121951219...|[0.38737758433079...|[0.3881004366812227]|[0.07407407407407...|\n",
      "|         0.0|                 8.0|         564.0|         627.0|             10.0|              30.0|        1.0|        1.0|        0.0|       19.0|        0.0|        0.0|       23.0|       65.0|        6.0|         1.0|         6.0|        59.0|         0.0|        74.0|        54.0|        57.0|        86.0|       375.0|       419.0|        50.0|[0.9970001568761973]|[0.9969948104691383]|[0.12195121951219...|[0.3563656147986942]|[0.36299126637554...|[0.07407407407407...|\n",
      "|         0.0|               149.0|         902.0|         627.0|              4.0|              23.0|        0.0|        0.0|        0.0|        3.0|        1.0|        1.0|       24.0|       52.0|       10.0|        67.0|         0.0|         3.0|        20.0|         1.0|         3.0|         0.0|        94.0|        82.0|        21.0|        59.0|[0.9963737929466026]|[0.9963684475546956]|[0.22560975609756...|[0.4020674646354733]|  [0.37117903930131]|[0.14814814814814...|\n",
      "|         0.0|                 0.0|        2921.0|        1205.0|              2.0|             853.0|        1.0|        1.0|        7.0|       21.0|        0.0|        0.0|       31.0|       80.0|      119.0|         1.0|        15.0|         7.0|         3.0|        10.0|         0.0|        39.0|         9.0|       224.0|       137.0|        21.0|[0.9979397027705894]|[0.9979343548408026]|[0.03658536585365...|[0.40043525571273...|[0.3460698689956332]|[0.3333333333333333]|\n",
      "|         1.0|                 1.0|        3599.0|        1205.0|              9.0|             160.0|        0.0|        0.0|        4.0|        0.0|        2.0|       36.0|        4.0|      127.0|       47.0|         0.0|         8.0|        24.0|         7.0|         0.0|         4.0|        95.0|       275.0|        19.0|        42.0|        10.0|[0.9923024274042367]|[0.9922970886108171]|[0.13719512195121...|[0.3563656147986942]|[0.32914847161572...|[0.18518518518518...|\n",
      "|         0.0|                 0.0|         565.0|        5762.0|              3.0|               4.0|        0.0|        1.0|        5.0|        9.0|        0.0|       44.0|       11.0|       73.0|        4.0|       138.0|       130.0|       156.0|         2.0|       201.0|         4.0|        18.0|        42.0|       296.0|       103.0|       148.0|[0.9917543589658413]|[0.9917490210606796]|[0.29878048780487...|[0.3248095756256801]|[0.22925764192139...|[0.1111111111111111]|\n",
      "|         0.0|                83.0|         565.0|        2247.0|              0.0|               1.0|        4.0|        3.0|        1.0|        3.0|       18.0|       12.0|        1.0|        9.0|        0.0|         0.0|        14.0|        10.0|        27.0|        16.0|        58.0|       146.0|         0.0|        16.0|       180.0|       116.0|[0.9910496995450472]|[0.9910443627819314]|[0.05487804878048...|[0.3248095756256801]|[0.26364628820960...|               [0.0]|\n",
      "|         1.0|                83.0|         565.0|        7390.0|             16.0|              68.0|        0.0|        3.0|        1.0|        1.0|        7.0|        7.0|        7.0|        1.0|        1.0|        26.0|        10.0|        98.0|        17.0|        24.0|        38.0|        57.0|        67.0|       213.0|        55.0|       422.0|[0.9910496995450472]|[0.9910443627819314]|[0.05182926829268...|[0.3248095756256801]|[0.5884279475982532]|[0.2962962962962963]|\n",
      "|         1.0|               226.0|         565.0|         244.0|              1.0|               3.0|        0.0|        3.0|        0.0|        1.0|        6.0|       18.0|       71.0|        9.0|        0.0|         0.0|         3.0|         1.0|        58.0|       167.0|        53.0|        12.0|         0.0|        12.0|         3.0|        66.0|[0.9910496995450472]|[0.9910443627819314]|[0.11890243902439...|[0.3248095756256801]|[0.6260917030567685]|[0.07407407407407...|\n",
      "|         1.0|                 5.0|         565.0|        2183.0|              1.0|              39.0|        0.0|        3.0|       14.0|        5.0|       66.0|        0.0|        2.0|        2.0|      149.0|        12.0|       138.0|       178.0|        45.0|        36.0|       128.0|        41.0|        36.0|       519.0|         6.0|        39.0|[0.9909714040538479]| [0.990966067417626]|[0.03048780487804...|[0.3248095756256801]|[0.44650655021834...|[0.03703703703703...|\n",
      "|         0.0|                 2.0|         470.0|         958.0|              9.0|              12.0|        0.0|        0.0|        0.0|        0.0|        3.0|        0.0|        0.0|        5.0|        2.0|         2.0|         4.0|       159.0|         5.0|         1.0|        29.0|         4.0|        85.0|        69.0|       112.0|        15.0|[0.9968435658937985]| [0.996916515104833]|[0.03048780487804...|[0.16866158868335...|[0.19213973799126...|[0.25925925925925...|\n",
      "|         1.0|                 2.0|        1781.0|          79.0|             49.0|             453.0|        0.0|        0.0|        0.0|        0.0|        3.0|        0.0|       25.0|       40.0|        2.0|        34.0|        66.0|         6.0|        25.0|       193.0|        43.0|        85.0|       315.0|        40.0|       123.0|         0.0|[0.9968435658937985]|[0.9968382197405277]|[0.06707317073170...|[0.19423286180631...|[0.16648471615720...|[0.2222222222222222]|\n",
      "|         1.0|                 2.0|         470.0|         958.0|              9.0|              12.0|        0.0|        0.0|        0.0|        0.0|        3.0|        0.0|        0.0|        5.0|        2.0|         2.0|       229.0|         5.0|         8.0|       208.0|        37.0|        36.0|        91.0|        34.0|       100.0|        24.0|[0.9968435658937985]|[0.9968382197405277]|[0.09451219512195...|[0.16866158868335...|[0.19213973799126...|[0.25925925925925...|\n",
      "|         1.0|               136.0|        1781.0|          79.0|              9.0|              12.0|        0.0|        0.0|        0.0|        0.0|        3.0|        0.0|        0.0|        5.0|        2.0|         2.0|       229.0|       159.0|        47.0|       202.0|         9.0|       100.0|        61.0|        29.0|        78.0|        16.0|[0.9962172019642038]|[0.9962118568260848]|[0.13719512195121...|[0.19423286180631...|[0.16648471615720...|[0.25925925925925...|\n",
      "|         1.0|                 2.0|         470.0|        7198.0|              4.0|              11.0|        0.0|        0.0|        0.0|        3.0|        3.0|       40.0|        4.0|      147.0|      195.0|        13.0|         2.0|         6.0|         1.0|         1.0|        29.0|        34.0|         8.0|         3.0|        89.0|        64.0|[0.9962172019642038]|[0.9962118568260848]|[0.24390243902439...|[0.16866158868335...|[0.2789301310043668]|[0.14814814814814...|\n",
      "|         0.0|                45.0|        3937.0|          79.0|              2.0|              25.0|        1.0|        1.0|       23.0|        0.0|        2.0|        0.0|       10.0|       12.0|       55.0|        94.0|        13.0|        29.0|        11.0|         9.0|        21.0|         9.0|         0.0|         4.0|       102.0|         8.0|[0.9942598146842202]|[0.9942544727184509]|[0.01219512195121...|[0.3895538628944505]|[0.16648471615720...|[0.03703703703703...|\n",
      "|         0.0|                 0.0|        1682.0|          79.0|            124.0|             190.0|        2.0|        8.0|        3.0|        7.0|       11.0|        6.0|       13.0|       56.0|        6.0|        23.0|        11.0|        25.0|        20.0|         9.0|        54.0|         0.0|       239.0|       128.0|        45.0|        75.0|[0.9879178798970735]|[0.9879125482097173]|[0.04573170731707...|[0.28454842219804...|[0.1730349344978166]|[0.1111111111111111]|\n",
      "|         0.0|                10.0|         470.0|         958.0|             54.0|               7.0|        1.0|        1.0|        3.0|        2.0|       14.0|       14.0|        1.0|        3.0|        6.0|         6.0|        24.0|        13.0|         3.0|        92.0|        90.0|         0.0|         3.0|        46.0|        67.0|        96.0|[0.9865868565466847]|[0.9865815270165262]|[0.14634146341463...|[0.15995647442872...|[0.23471615720524...|[0.1111111111111111]|\n",
      "|         0.0|                10.0|        4066.0|          79.0|             17.0|             422.0|        0.0|        0.0|        0.0|        0.0|        1.0|       11.0|        6.0|        5.0|        5.0|        90.0|        68.0|        75.0|       267.0|       118.0|       287.0|        29.0|       208.0|       371.0|       139.0|        16.0|[0.9865868565466847]|[0.9865815270165262]|[0.06707317073170...|[0.5663764961915125]|[0.15829694323144...|[0.25925925925925...|\n",
      "|         1.0|                10.0|        5442.0|          79.0|             54.0|               7.0|        1.0|        1.0|        3.0|        2.0|        2.0|        1.0|        5.0|       19.0|       59.0|         4.0|        29.0|        16.0|         7.0|        42.0|        31.0|        30.0|       262.0|        72.0|        17.0|        30.0|[0.9865868565466847]|[0.9865815270165262]|[0.10060975609756...|[0.2959738846572361]|[0.1359170305676856]|[0.1111111111111111]|\n",
      "+------------+--------------------+--------------+--------------+-----------------+------------------+-----------+-----------+-----------+-----------+-----------+-----------+-----------+-----------+-----------+------------+------------+------------+------------+------------+------------+------------+------------+------------+------------+------------+--------------------+--------------------+--------------------+--------------------+--------------------+--------------------+\n",
      "only showing top 20 rows\n",
      "\n"
     ]
    }
   ],
   "source": [
    "from pyspark.ml.feature import MinMaxScaler, VectorAssembler\n",
    "\n",
    "columns_to_scale = [\"created_at\", \"last_move_at\", \"turns\", \"white_rating\", \"black_rating\", \"opening_ply\"]\n",
    "assemblers = [VectorAssembler(inputCols=[col], outputCol=col+\"_vec\") for col in columns_to_scale]\n",
    "scalers = [MinMaxScaler(inputCol=col + \"_vec\", outputCol=col + \"_scaled\") for col in columns_to_scale]\n",
    "pipeline = Pipeline(stages=assemblers + scalers)\n",
    "scalerModel = pipeline.fit(data)\n",
    "scaledData = scalerModel.transform(data)\n",
    "\n",
    "data = scaledData.drop(\"created_at\", \"last_move_at\", \"turns\", \"white_rating\", \"black_rating\", \"opening_ply\", \"rated_vec\", \"created_at_vec\", \"last_move_at_vec\", \"turns_vec\", \"white_rating_vec\", \"black_rating_vec\", \"opening_ply_vec\")\n",
    "data.show()"
   ]
  },
  {
   "cell_type": "code",
   "execution_count": 20,
   "id": "03d43892",
   "metadata": {},
   "outputs": [
    {
     "data": {
      "text/plain": [
       "17106"
      ]
     },
     "execution_count": 20,
     "metadata": {},
     "output_type": "execute_result"
    }
   ],
   "source": [
    "data.count()"
   ]
  },
  {
   "cell_type": "markdown",
   "id": "e596f403",
   "metadata": {},
   "source": [
    "Implement Neural Network"
   ]
  },
  {
   "cell_type": "code",
   "execution_count": 21,
   "id": "ee4a27ba",
   "metadata": {},
   "outputs": [],
   "source": [
    "from pyspark.ml import Pipeline\n",
    "from pyspark.ml.classification import LinearSVC\n",
    "from pyspark.ml.evaluation import MulticlassClassificationEvaluator"
   ]
  },
  {
   "cell_type": "code",
   "execution_count": 22,
   "id": "36b5136e",
   "metadata": {},
   "outputs": [],
   "source": [
    "assembler = VectorAssembler(inputCols=[s for s in data.columns if s != \"winner_index\"], outputCol=\"features\")"
   ]
  },
  {
   "cell_type": "code",
   "execution_count": 23,
   "id": "d6edc906",
   "metadata": {},
   "outputs": [],
   "source": [
    "output = assembler.transform(data)"
   ]
  },
  {
   "cell_type": "code",
   "execution_count": 24,
   "id": "e967aa80",
   "metadata": {},
   "outputs": [
    {
     "name": "stdout",
     "output_type": "stream",
     "text": [
      "root\n",
      " |-- winner_index: double (nullable = false)\n",
      " |-- increment_code_index: double (nullable = false)\n",
      " |-- white_id_index: double (nullable = false)\n",
      " |-- black_id_index: double (nullable = false)\n",
      " |-- opening_eco_index: double (nullable = false)\n",
      " |-- opening_name_index: double (nullable = false)\n",
      " |-- move1_index: double (nullable = false)\n",
      " |-- move2_index: double (nullable = false)\n",
      " |-- move3_index: double (nullable = false)\n",
      " |-- move4_index: double (nullable = false)\n",
      " |-- move5_index: double (nullable = false)\n",
      " |-- move6_index: double (nullable = false)\n",
      " |-- move7_index: double (nullable = false)\n",
      " |-- move8_index: double (nullable = false)\n",
      " |-- move9_index: double (nullable = false)\n",
      " |-- move10_index: double (nullable = false)\n",
      " |-- move11_index: double (nullable = false)\n",
      " |-- move12_index: double (nullable = false)\n",
      " |-- move13_index: double (nullable = false)\n",
      " |-- move14_index: double (nullable = false)\n",
      " |-- move15_index: double (nullable = false)\n",
      " |-- move16_index: double (nullable = false)\n",
      " |-- move17_index: double (nullable = false)\n",
      " |-- move18_index: double (nullable = false)\n",
      " |-- move19_index: double (nullable = false)\n",
      " |-- move20_index: double (nullable = false)\n",
      " |-- created_at_scaled: vector (nullable = true)\n",
      " |-- last_move_at_scaled: vector (nullable = true)\n",
      " |-- turns_scaled: vector (nullable = true)\n",
      " |-- white_rating_scaled: vector (nullable = true)\n",
      " |-- black_rating_scaled: vector (nullable = true)\n",
      " |-- opening_ply_scaled: vector (nullable = true)\n",
      " |-- features: vector (nullable = true)\n",
      "\n"
     ]
    }
   ],
   "source": [
    "output.printSchema()"
   ]
  },
  {
   "cell_type": "code",
   "execution_count": 25,
   "id": "520c6a6f",
   "metadata": {
    "scrolled": true
   },
   "outputs": [],
   "source": [
    "columns = [s for s in output.columns]\n",
    "columns.remove(\"winner_index\")\n",
    "columns.remove(\"features\")\n",
    "cols = np.array(columns)\n",
    "data = output.drop(*cols)\n",
    "data = data.withColumnRenamed(\"winner_index\", \"label\")"
   ]
  },
  {
   "cell_type": "code",
   "execution_count": 26,
   "id": "46f8a250",
   "metadata": {
    "scrolled": true
   },
   "outputs": [
    {
     "name": "stdout",
     "output_type": "stream",
     "text": [
      "+-----+-------------------------------------------------------------------------------------------------------------------------------------------------------------------------------------------------------------------------------------------------------+\n",
      "|label|features                                                                                                                                                                                                                                               |\n",
      "+-----+-------------------------------------------------------------------------------------------------------------------------------------------------------------------------------------------------------------------------------------------------------+\n",
      "|1.0  |[9.0,710.0,0.0,9.0,12.0,0.0,0.0,0.0,0.0,3.0,0.0,0.0,5.0,2.0,2.0,4.0,5.0,5.0,5.0,42.0,7.0,2.0,54.0,7.0,108.0,0.9945729966490177,0.9945676541756724,0.25914634146341464,0.10010881392818281,0.2816593886462882,0.25925925925925924]                      |\n",
      "|1.0  |[13.0,1946.0,397.0,0.0,351.0,5.0,4.0,16.0,1.0,5.0,7.0,2.0,1.0,45.0,16.0,0.0,68.0,86.0,75.0,1.0,76.0,12.0,79.0,84.0,13.0,0.8887957880387054,0.8887906169991392,0.2835365853658537,0.5054406964091404,0.4197598253275109,0.037037037037037035]           |\n",
      "|0.0  |[34.0,686.0,763.0,1.0,3.0,0.0,3.0,0.0,2.0,8.0,4.0,14.0,49.0,9.0,27.0,14.0,41.0,29.0,107.0,79.0,21.0,200.0,18.0,369.0,220.0,0.9805581037243353,0.980552783965014,0.18902439024390244,0.3895538628944505,0.3881004366812227,0.07407407407407407]         |\n",
      "|0.0  |[0.0,5067.0,538.0,119.0,272.0,1.0,4.0,2.0,4.0,2.0,4.0,0.0,9.0,28.0,21.0,13.0,1.0,3.0,2.0,0.0,9.0,12.0,33.0,86.0,15.0,0.9728851455867996,0.9728798382630893,0.3170731707317073,0.49455930359085964,0.4344978165938864,0.2222222222222222]               |\n",
      "|1.0  |[10.0,303.0,4688.0,109.0,1195.0,3.0,1.0,11.0,2.0,12.0,12.0,8.0,11.0,3.0,4.0,19.0,19.0,4.0,53.0,22.0,2.0,132.0,0.0,12.0,128.0,0.9402359257566737,0.9402306713477567,0.14329268292682928,0.33569096844396085,0.7985807860262009,0.25925925925925924]     |\n",
      "|1.0  |[1.0,352.0,755.0,10.0,88.0,1.0,1.0,0.0,2.0,48.0,3.0,5.0,15.0,7.0,2.0,26.0,22.0,43.0,2.0,0.0,26.0,21.0,5.0,2.0,13.0,0.9731983275515971,0.9731930197203108,0.23475609756097562,0.5272034820457019,0.361353711790393,0.1111111111111111]                  |\n",
      "|0.0  |[0.0,3402.0,1022.0,8.0,586.0,1.0,1.0,3.0,0.0,13.0,21.0,36.0,28.0,5.0,24.0,5.0,59.0,181.0,191.0,205.0,277.0,254.0,251.0,4.0,192.0,0.8969385191234371,0.8969333348868961,0.03658536585365854,0.19749727965179542,0.18122270742358076,0.14814814814814814]|\n",
      "|0.0  |[0.0,1085.0,391.0,23.0,92.0,0.0,2.0,0.0,3.0,9.0,1.0,18.0,10.0,21.0,14.0,4.0,17.0,7.0,83.0,0.0,47.0,18.0,53.0,11.0,14.0,0.9977831117881907,0.9977777641121919,0.12804878048780488,0.6338411316648531,0.3739082969432314,0.14814814814814814]            |\n",
      "|0.0  |[0.0,5030.0,288.0,3.0,4.0,0.0,1.0,5.0,9.0,0.0,29.0,1.0,11.0,4.0,4.0,24.0,13.0,6.0,1.0,3.0,4.0,55.0,1.0,17.0,0.0,0.9956691335258084,0.9956637892759473,0.21951219512195122,0.6289445048966268,0.5949781659388645,0.1111111111111111]                    |\n",
      "|0.0  |[1.0,837.0,411.0,69.0,1029.0,1.0,1.0,9.0,20.0,2.0,1.0,29.0,3.0,53.0,28.0,9.0,41.0,117.0,176.0,43.0,69.0,62.0,46.0,0.0,24.0,0.8859771503555292,0.8859719838841466,0.09146341463414634,0.514689880304679,0.3296943231441048,0.1111111111111111]          |\n",
      "|1.0  |[28.0,7208.0,493.0,1.0,109.0,0.0,3.0,3.0,1.0,7.0,7.0,2.0,1.0,16.0,26.0,26.0,10.0,32.0,24.0,89.0,67.0,12.0,34.0,8.0,97.0,0.9731983275515971,0.9731930197203108,0.2103658536585366,0.40805223068552776,0.5191048034934498,0.07407407407407407]           |\n",
      "|0.0  |[0.0,5207.0,256.0,28.0,315.0,0.0,5.0,1.0,1.0,7.0,7.0,7.0,18.0,30.0,12.0,71.0,95.0,35.0,2.0,4.0,21.0,4.0,42.0,0.0,31.0,0.989640380703459,0.9896350462244351,0.07317073170731708,0.4820457018498368,0.24781659388646288,0.18518518518518517]             |\n",
      "|0.0  |[2.0,6495.0,2681.0,69.0,61.0,7.0,10.0,1.0,5.0,5.0,0.0,0.0,3.0,26.0,17.0,28.0,1.0,63.0,66.0,0.0,24.0,7.0,101.0,14.0,6.0,0.8512139522630209,0.8512088421325693,0.09146341463414634,0.3792165397170838,0.27510917030567683,0.0]                           |\n",
      "|0.0  |[0.0,7807.0,230.0,24.0,465.0,1.0,1.0,2.0,11.0,13.0,1.0,1.0,13.0,29.0,28.0,0.0,36.0,29.0,60.0,55.0,14.0,144.0,18.0,19.0,82.0,0.8624885029957262,0.8625616699568457,0.22560975609756098,0.3367791077257889,0.21451965065502182,0.18518518518518517]      |\n",
      "|1.0  |[8.0,7022.0,325.0,7.0,0.0,0.0,2.0,10.0,4.0,2.0,1.0,34.0,0.0,11.0,7.0,18.0,39.0,0.0,343.0,15.0,83.0,77.0,18.0,23.0,65.0,0.968187416114839,0.9681821164047681,0.021341463414634148,0.20021762785636563,0.2494541484716157,0.037037037037037035]          |\n",
      "|1.0  |[3.0,1626.0,216.0,2.0,6.0,1.0,1.0,6.0,0.0,5.0,14.0,7.0,0.0,51.0,4.0,15.0,7.0,57.0,25.0,23.0,13.0,3.0,5.0,21.0,79.0,0.9002269297538095,0.9002217401877209,0.13109756097560976,0.6430903155603918,0.7778384279475982,0.07407407407407407]                |\n",
      "|0.0  |[0.0,42.0,5463.0,13.0,16.0,0.0,0.0,0.0,0.0,3.0,13.0,2.0,2.0,27.0,37.0,73.0,193.0,29.0,1.0,45.0,11.0,0.0,129.0,558.0,43.0,0.9966086794202006,0.9966033336476116,0.006097560975609756,0.3786724700761698,0.30622270742358076,0.18518518518518517]        |\n",
      "|0.0  |[0.0,5527.0,194.0,57.0,100.0,1.0,1.0,2.0,4.0,0.0,17.0,15.0,53.0,43.0,59.0,22.0,17.0,15.0,11.0,2.0,23.0,43.0,12.0,215.0,242.0,0.8433061076518873,0.8433010103377286,0.03353658536585366,0.4896626768226333,0.5436681222707423,0.14814814814814814]      |\n",
      "|0.0  |[6.0,6573.0,317.0,210.0,846.0,1.0,4.0,2.0,8.0,17.0,34.0,104.0,6.0,151.0,196.0,0.0,5.0,2.0,19.0,43.0,22.0,62.0,0.0,0.0,160.0,0.978444125461953,0.9784388091287695,0.21341463414634146,0.7181719260065289,0.7783842794759825,0.5925925925925926]         |\n",
      "|0.0  |[83.0,55.0,4032.0,165.0,493.0,2.0,2.0,3.0,0.0,2.0,10.0,2.0,18.0,12.0,14.0,227.0,0.0,28.0,6.0,8.0,0.0,6.0,63.0,0.0,7.0,0.8057242718762027,0.8057975308354641,0.1951219512195122,0.3895538628944505,0.6866812227074236,0.1111111111111111]               |\n",
      "+-----+-------------------------------------------------------------------------------------------------------------------------------------------------------------------------------------------------------------------------------------------------------+\n",
      "only showing top 20 rows\n",
      "\n"
     ]
    }
   ],
   "source": [
    "data = data.dropDuplicates() #dropping duplicates slow program down a lot\n",
    "data.show(truncate=False)"
   ]
  },
  {
   "cell_type": "code",
   "execution_count": 27,
   "id": "4ab9b967",
   "metadata": {},
   "outputs": [
    {
     "data": {
      "text/plain": [
       "16762"
      ]
     },
     "execution_count": 27,
     "metadata": {},
     "output_type": "execute_result"
    }
   ],
   "source": [
    "data.count()"
   ]
  },
  {
   "cell_type": "code",
   "execution_count": 28,
   "id": "8aaa13cc",
   "metadata": {},
   "outputs": [],
   "source": [
    "[train, test] = data.randomSplit([0.7, 0.3])"
   ]
  },
  {
   "cell_type": "code",
   "execution_count": 29,
   "id": "d9e306d3",
   "metadata": {},
   "outputs": [],
   "source": [
    "lsvc = LinearSVC(labelCol=\"label\", maxIter=50)"
   ]
  },
  {
   "cell_type": "code",
   "execution_count": 30,
   "id": "017c8b40",
   "metadata": {},
   "outputs": [],
   "source": [
    "lsvc = lsvc.fit(train)"
   ]
  },
  {
   "cell_type": "code",
   "execution_count": 31,
   "id": "6cb4b8d3",
   "metadata": {},
   "outputs": [],
   "source": [
    "result = lsvc.transform(test)"
   ]
  },
  {
   "cell_type": "code",
   "execution_count": 32,
   "id": "92847749",
   "metadata": {},
   "outputs": [
    {
     "name": "stdout",
     "output_type": "stream",
     "text": [
      "['label', 'features', 'rawPrediction', 'prediction']\n"
     ]
    }
   ],
   "source": [
    "print(result.columns)"
   ]
  },
  {
   "cell_type": "code",
   "execution_count": 33,
   "id": "d8ce9135",
   "metadata": {},
   "outputs": [
    {
     "name": "stdout",
     "output_type": "stream",
     "text": [
      "root\n",
      " |-- label: double (nullable = false)\n",
      " |-- features: vector (nullable = true)\n",
      " |-- rawPrediction: vector (nullable = true)\n",
      " |-- prediction: double (nullable = false)\n",
      "\n"
     ]
    }
   ],
   "source": [
    "result.printSchema()"
   ]
  },
  {
   "cell_type": "code",
   "execution_count": 34,
   "id": "2f1a001b",
   "metadata": {},
   "outputs": [
    {
     "name": "stdout",
     "output_type": "stream",
     "text": [
      "+-----+--------------------+--------------------+----------+\n",
      "|label|            features|       rawPrediction|prediction|\n",
      "+-----+--------------------+--------------------+----------+\n",
      "|  0.0|[0.0,4.0,599.0,1....|[-0.4237595776060...|       1.0|\n",
      "|  0.0|[0.0,4.0,639.0,4....|[-0.6364696299870...|       1.0|\n",
      "|  0.0|[0.0,10.0,1533.0,...|[-0.1545761433105...|       1.0|\n",
      "|  0.0|[0.0,10.0,1872.0,...|[-0.5918704472065...|       1.0|\n",
      "|  0.0|[0.0,12.0,1225.0,...|[-0.3293647210588...|       1.0|\n",
      "|  0.0|[0.0,13.0,1362.0,...|[-0.6394320518151...|       1.0|\n",
      "|  0.0|[0.0,13.0,1495.0,...|[0.62477517758835...|       0.0|\n",
      "|  0.0|[0.0,13.0,1678.0,...|[2.20660771253204...|       0.0|\n",
      "|  0.0|[0.0,14.0,824.0,1...|[0.01182897681639...|       0.0|\n",
      "|  0.0|[0.0,18.0,2747.0,...|[0.96610359791955...|       0.0|\n",
      "|  0.0|[0.0,19.0,1222.0,...|[0.23376584920398...|       0.0|\n",
      "|  0.0|[0.0,19.0,1553.0,...|[-0.1453194509006...|       1.0|\n",
      "|  0.0|[0.0,20.0,766.0,8...|[-1.0725172959374...|       1.0|\n",
      "|  0.0|[0.0,21.0,5784.0,...|[0.33676026148672...|       0.0|\n",
      "|  0.0|[0.0,27.0,1068.0,...|[1.48781520355209...|       0.0|\n",
      "|  0.0|[0.0,30.0,2452.0,...|[2.65345962342068...|       0.0|\n",
      "|  0.0|[0.0,31.0,1675.0,...|[1.26971673907141...|       0.0|\n",
      "|  0.0|[0.0,32.0,639.0,3...|[0.70750271571920...|       0.0|\n",
      "|  0.0|[0.0,32.0,3858.0,...|[0.60886110420764...|       0.0|\n",
      "|  0.0|[0.0,34.0,91.0,41...|[0.23456362805717...|       0.0|\n",
      "+-----+--------------------+--------------------+----------+\n",
      "only showing top 20 rows\n",
      "\n"
     ]
    }
   ],
   "source": [
    "result.show()"
   ]
  },
  {
   "cell_type": "code",
   "execution_count": 35,
   "id": "a1019803",
   "metadata": {},
   "outputs": [],
   "source": [
    "predictionAndLabels = result.select(\"prediction\", \"label\")"
   ]
  },
  {
   "cell_type": "code",
   "execution_count": 36,
   "id": "25fe0d81",
   "metadata": {},
   "outputs": [],
   "source": [
    "from pyspark.ml.evaluation import MulticlassClassificationEvaluator\n",
    "evaluator = MulticlassClassificationEvaluator(labelCol=\"label\", predictionCol=\"prediction\")"
   ]
  },
  {
   "cell_type": "code",
   "execution_count": null,
   "id": "dbfc63e5",
   "metadata": {},
   "outputs": [],
   "source": [
    "accuracy = evaluator.evaluate(result)"
   ]
  },
  {
   "cell_type": "code",
   "execution_count": null,
   "id": "3e1ed276",
   "metadata": {},
   "outputs": [],
   "source": [
    "print(\"Test set accuracy = \" + str(accuracy))"
   ]
  },
  {
   "cell_type": "code",
   "execution_count": null,
   "id": "ac78105e",
   "metadata": {},
   "outputs": [],
   "source": []
  }
 ],
 "metadata": {
  "kernelspec": {
   "display_name": "Python 3 (ipykernel)",
   "language": "python",
   "name": "python3"
  },
  "language_info": {
   "codemirror_mode": {
    "name": "ipython",
    "version": 3
   },
   "file_extension": ".py",
   "mimetype": "text/x-python",
   "name": "python",
   "nbconvert_exporter": "python",
   "pygments_lexer": "ipython3",
   "version": "3.9.12"
  }
 },
 "nbformat": 4,
 "nbformat_minor": 5
}
