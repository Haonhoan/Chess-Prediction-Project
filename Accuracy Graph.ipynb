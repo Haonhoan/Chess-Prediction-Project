{
 "cells": [
  {
   "cell_type": "code",
   "execution_count": 1,
   "id": "6e5facbc",
   "metadata": {},
   "outputs": [],
   "source": [
    "import pandas as pd\n",
    "import seaborn as sns\n",
    "import matplotlib.pyplot as plt\n",
    "import numpy as np"
   ]
  },
  {
   "cell_type": "code",
   "execution_count": 2,
   "id": "a78b37cb",
   "metadata": {},
   "outputs": [],
   "source": [
    "df = pd.read_csv(\"Accuracy.csv\")"
   ]
  },
  {
   "cell_type": "code",
   "execution_count": 3,
   "id": "f0858e12",
   "metadata": {},
   "outputs": [
    {
     "data": {
      "text/html": [
       "<div>\n",
       "<style scoped>\n",
       "    .dataframe tbody tr th:only-of-type {\n",
       "        vertical-align: middle;\n",
       "    }\n",
       "\n",
       "    .dataframe tbody tr th {\n",
       "        vertical-align: top;\n",
       "    }\n",
       "\n",
       "    .dataframe thead th {\n",
       "        text-align: right;\n",
       "    }\n",
       "</style>\n",
       "<table border=\"1\" class=\"dataframe\">\n",
       "  <thead>\n",
       "    <tr style=\"text-align: right;\">\n",
       "      <th></th>\n",
       "      <th>Random Forest</th>\n",
       "      <th>LSVM</th>\n",
       "      <th>Multilayer Perceptron</th>\n",
       "    </tr>\n",
       "  </thead>\n",
       "  <tbody>\n",
       "    <tr>\n",
       "      <th>0</th>\n",
       "      <td>0.38796</td>\n",
       "      <td>0.63588</td>\n",
       "      <td>0.51484</td>\n",
       "    </tr>\n",
       "    <tr>\n",
       "      <th>1</th>\n",
       "      <td>0.39327</td>\n",
       "      <td>0.64787</td>\n",
       "      <td>0.50913</td>\n",
       "    </tr>\n",
       "    <tr>\n",
       "      <th>2</th>\n",
       "      <td>0.38355</td>\n",
       "      <td>0.64353</td>\n",
       "      <td>0.51422</td>\n",
       "    </tr>\n",
       "    <tr>\n",
       "      <th>3</th>\n",
       "      <td>0.38921</td>\n",
       "      <td>0.65627</td>\n",
       "      <td>0.51899</td>\n",
       "    </tr>\n",
       "    <tr>\n",
       "      <th>4</th>\n",
       "      <td>0.38940</td>\n",
       "      <td>0.64871</td>\n",
       "      <td>0.50379</td>\n",
       "    </tr>\n",
       "    <tr>\n",
       "      <th>5</th>\n",
       "      <td>0.38351</td>\n",
       "      <td>0.64880</td>\n",
       "      <td>0.50898</td>\n",
       "    </tr>\n",
       "    <tr>\n",
       "      <th>6</th>\n",
       "      <td>0.38706</td>\n",
       "      <td>0.63573</td>\n",
       "      <td>0.51860</td>\n",
       "    </tr>\n",
       "    <tr>\n",
       "      <th>7</th>\n",
       "      <td>0.37163</td>\n",
       "      <td>0.64634</td>\n",
       "      <td>0.51463</td>\n",
       "    </tr>\n",
       "    <tr>\n",
       "      <th>8</th>\n",
       "      <td>0.38891</td>\n",
       "      <td>0.63929</td>\n",
       "      <td>0.51782</td>\n",
       "    </tr>\n",
       "    <tr>\n",
       "      <th>9</th>\n",
       "      <td>0.39109</td>\n",
       "      <td>0.64148</td>\n",
       "      <td>0.51103</td>\n",
       "    </tr>\n",
       "  </tbody>\n",
       "</table>\n",
       "</div>"
      ],
      "text/plain": [
       "   Random Forest     LSVM  Multilayer Perceptron\n",
       "0        0.38796  0.63588                0.51484\n",
       "1        0.39327  0.64787                0.50913\n",
       "2        0.38355  0.64353                0.51422\n",
       "3        0.38921  0.65627                0.51899\n",
       "4        0.38940  0.64871                0.50379\n",
       "5        0.38351  0.64880                0.50898\n",
       "6        0.38706  0.63573                0.51860\n",
       "7        0.37163  0.64634                0.51463\n",
       "8        0.38891  0.63929                0.51782\n",
       "9        0.39109  0.64148                0.51103"
      ]
     },
     "metadata": {},
     "output_type": "display_data"
    }
   ],
   "source": [
    "display(df)"
   ]
  },
  {
   "cell_type": "code",
   "execution_count": 5,
   "id": "460de85c",
   "metadata": {},
   "outputs": [
    {
     "data": {
      "text/plain": [
       "Random Forest            0.006052\n",
       "LSVM                     0.006479\n",
       "Multilayer Perceptron    0.004915\n",
       "dtype: float64"
      ]
     },
     "execution_count": 5,
     "metadata": {},
     "output_type": "execute_result"
    }
   ],
   "source": [
    "df.std()"
   ]
  },
  {
   "cell_type": "code",
   "execution_count": 4,
   "id": "518e0e44",
   "metadata": {},
   "outputs": [
    {
     "data": {
      "image/png": "[encoded data removed]",
      "text/plain": [
       "<Figure size 432x288 with 1 Axes>"
      ]
     },
     "metadata": {},
     "output_type": "display_data"
    }
   ],
   "source": [
    "sns.set()\n",
    "fig = df.mean().round(4).plot(kind='bar')\n",
    "plt.margins(0.02)\n",
    "plt.ylabel('Accuracy')\n",
    "plt.xlabel('Machine Learning Algorithms')\n",
    "fig.set_xticklabels(df.columns, rotation = 45, ha=\"right\")\n",
    "ax = plt.gca()\n",
    "ax.set_ylim([0, 1])\n",
    "for bars in ax.containers:\n",
    "    ax.bar_label(bars)\n",
    "plt.show()"
   ]
  },
  {
   "cell_type": "code",
   "execution_count": null,
   "id": "46360c84",
   "metadata": {},
   "outputs": [],
   "source": []
  }
 ],
 "metadata": {
  "kernelspec": {
   "display_name": "Python 3 (ipykernel)",
   "language": "python",
   "name": "python3"
  },
  "language_info": {
   "codemirror_mode": {
    "name": "ipython",
    "version": 3
   },
   "file_extension": ".py",
   "mimetype": "text/x-python",
   "name": "python",
   "nbconvert_exporter": "python",
   "pygments_lexer": "ipython3",
   "version": "3.9.12"
  }
 },
 "nbformat": 4,
 "nbformat_minor": 5
}
